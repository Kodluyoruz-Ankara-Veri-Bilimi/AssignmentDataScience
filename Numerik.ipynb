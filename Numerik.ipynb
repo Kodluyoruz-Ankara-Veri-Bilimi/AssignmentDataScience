{
 "cells": [
  {
   "cell_type": "code",
   "execution_count": 102,
   "metadata": {},
   "outputs": [],
   "source": [
    "import numpy as np \n",
    "import pandas as pd\n",
    "from sklearn.preprocessing import StandardScaler\n",
    "from sklearn.neural_network import MLPRegressor\n",
    "from sklearn.metrics import mean_squared_error\n",
    "from sklearn.model_selection import train_test_split, GridSearchCV,cross_val_score\n",
    "from sklearn.metrics import mean_squared_error, r2_score\n",
    "import matplotlib.pyplot as plt\n",
    "from sklearn.preprocessing import scale \n",
    "from sklearn.tree import DecisionTreeRegressor\n",
    "from sklearn.ensemble import RandomForestRegressor\n",
    "from warnings import filterwarnings\n",
    "filterwarnings('ignore')"
   ]
  },
  {
   "cell_type": "code",
   "execution_count": 2,
   "metadata": {},
   "outputs": [],
   "source": [
    "data=pd.read_excel(\"dataset.xlsx\")"
   ]
  },
  {
   "cell_type": "code",
   "execution_count": 3,
   "metadata": {},
   "outputs": [],
   "source": [
    "data=data.replace('?',np.nan)"
   ]
  },
  {
   "cell_type": "code",
   "execution_count": 4,
   "metadata": {},
   "outputs": [
    {
     "name": "stdout",
     "output_type": "stream",
     "text": [
      "<class 'pandas.core.frame.DataFrame'>\n",
      "RangeIndex: 6167 entries, 0 to 6166\n",
      "Columns: 136 entries, ind_5 to 90_target\n",
      "dtypes: float64(90), int64(45), object(1)\n",
      "memory usage: 6.4+ MB\n"
     ]
    }
   ],
   "source": [
    "data.info()"
   ]
  },
  {
   "cell_type": "code",
   "execution_count": 5,
   "metadata": {},
   "outputs": [
    {
     "data": {
      "text/plain": [
       "0"
      ]
     },
     "execution_count": 5,
     "metadata": {},
     "output_type": "execute_result"
    }
   ],
   "source": [
    "data1=data.copy()\n",
    "data1=data1.dropna()\n",
    "data1.isna().sum().sum()\n"
   ]
  },
  {
   "cell_type": "code",
   "execution_count": 6,
   "metadata": {},
   "outputs": [
    {
     "data": {
      "text/plain": [
       "array(['GREEN', 'RED'], dtype=object)"
      ]
     },
     "execution_count": 6,
     "metadata": {},
     "output_type": "execute_result"
    }
   ],
   "source": [
    "data1['ind_109'].unique()"
   ]
  },
  {
   "cell_type": "code",
   "execution_count": 7,
   "metadata": {},
   "outputs": [
    {
     "data": {
      "text/html": [
       "<div>\n",
       "<style scoped>\n",
       "    .dataframe tbody tr th:only-of-type {\n",
       "        vertical-align: middle;\n",
       "    }\n",
       "\n",
       "    .dataframe tbody tr th {\n",
       "        vertical-align: top;\n",
       "    }\n",
       "\n",
       "    .dataframe thead th {\n",
       "        text-align: right;\n",
       "    }\n",
       "</style>\n",
       "<table border=\"1\" class=\"dataframe\">\n",
       "  <thead>\n",
       "    <tr style=\"text-align: right;\">\n",
       "      <th></th>\n",
       "      <th>GREEN</th>\n",
       "      <th>RED</th>\n",
       "    </tr>\n",
       "  </thead>\n",
       "  <tbody>\n",
       "    <tr>\n",
       "      <th>0</th>\n",
       "      <td>1</td>\n",
       "      <td>0</td>\n",
       "    </tr>\n",
       "    <tr>\n",
       "      <th>1</th>\n",
       "      <td>1</td>\n",
       "      <td>0</td>\n",
       "    </tr>\n",
       "    <tr>\n",
       "      <th>2</th>\n",
       "      <td>1</td>\n",
       "      <td>0</td>\n",
       "    </tr>\n",
       "    <tr>\n",
       "      <th>3</th>\n",
       "      <td>1</td>\n",
       "      <td>0</td>\n",
       "    </tr>\n",
       "    <tr>\n",
       "      <th>4</th>\n",
       "      <td>1</td>\n",
       "      <td>0</td>\n",
       "    </tr>\n",
       "    <tr>\n",
       "      <th>...</th>\n",
       "      <td>...</td>\n",
       "      <td>...</td>\n",
       "    </tr>\n",
       "    <tr>\n",
       "      <th>6162</th>\n",
       "      <td>0</td>\n",
       "      <td>1</td>\n",
       "    </tr>\n",
       "    <tr>\n",
       "      <th>6163</th>\n",
       "      <td>0</td>\n",
       "      <td>1</td>\n",
       "    </tr>\n",
       "    <tr>\n",
       "      <th>6164</th>\n",
       "      <td>1</td>\n",
       "      <td>0</td>\n",
       "    </tr>\n",
       "    <tr>\n",
       "      <th>6165</th>\n",
       "      <td>1</td>\n",
       "      <td>0</td>\n",
       "    </tr>\n",
       "    <tr>\n",
       "      <th>6166</th>\n",
       "      <td>1</td>\n",
       "      <td>0</td>\n",
       "    </tr>\n",
       "  </tbody>\n",
       "</table>\n",
       "<p>5126 rows × 2 columns</p>\n",
       "</div>"
      ],
      "text/plain": [
       "      GREEN  RED\n",
       "0         1    0\n",
       "1         1    0\n",
       "2         1    0\n",
       "3         1    0\n",
       "4         1    0\n",
       "...     ...  ...\n",
       "6162      0    1\n",
       "6163      0    1\n",
       "6164      1    0\n",
       "6165      1    0\n",
       "6166      1    0\n",
       "\n",
       "[5126 rows x 2 columns]"
      ]
     },
     "execution_count": 7,
     "metadata": {},
     "output_type": "execute_result"
    }
   ],
   "source": [
    "dummyVariable=pd.get_dummies(data1['ind_109'])\n",
    "data1=data1.drop(['ind_109'],axis=1)\n",
    "dummyVariable\n"
   ]
  },
  {
   "cell_type": "code",
   "execution_count": 8,
   "metadata": {},
   "outputs": [],
   "source": [
    "targets=data1[['90_target','50_target','20_target']]\n",
    "data1=data1.drop(['90_target','50_target','20_target'],axis=1)"
   ]
  },
  {
   "cell_type": "code",
   "execution_count": 9,
   "metadata": {},
   "outputs": [],
   "source": [
    "data1=pd.concat([data1,dummyVariable['GREEN']],axis=1)"
   ]
  },
  {
   "cell_type": "code",
   "execution_count": 10,
   "metadata": {},
   "outputs": [
    {
     "data": {
      "text/html": [
       "<div>\n",
       "<style scoped>\n",
       "    .dataframe tbody tr th:only-of-type {\n",
       "        vertical-align: middle;\n",
       "    }\n",
       "\n",
       "    .dataframe tbody tr th {\n",
       "        vertical-align: top;\n",
       "    }\n",
       "\n",
       "    .dataframe thead th {\n",
       "        text-align: right;\n",
       "    }\n",
       "</style>\n",
       "<table border=\"1\" class=\"dataframe\">\n",
       "  <thead>\n",
       "    <tr style=\"text-align: right;\">\n",
       "      <th></th>\n",
       "      <th>ind_5</th>\n",
       "      <th>ind_6</th>\n",
       "      <th>ind_8</th>\n",
       "      <th>ind_9</th>\n",
       "      <th>ind_10</th>\n",
       "      <th>ind_12</th>\n",
       "      <th>ind_13</th>\n",
       "      <th>ind_14</th>\n",
       "      <th>ind_15</th>\n",
       "      <th>ind_16</th>\n",
       "      <th>...</th>\n",
       "      <th>ind_412</th>\n",
       "      <th>ind_414</th>\n",
       "      <th>ind_416</th>\n",
       "      <th>ind_418</th>\n",
       "      <th>ind_420</th>\n",
       "      <th>ind_422</th>\n",
       "      <th>ind_424</th>\n",
       "      <th>ind_426</th>\n",
       "      <th>ind_428</th>\n",
       "      <th>GREEN</th>\n",
       "    </tr>\n",
       "  </thead>\n",
       "  <tbody>\n",
       "    <tr>\n",
       "      <th>0</th>\n",
       "      <td>19</td>\n",
       "      <td>17</td>\n",
       "      <td>100.000000</td>\n",
       "      <td>85.714286</td>\n",
       "      <td>14.285714</td>\n",
       "      <td>72.363515</td>\n",
       "      <td>60.808814</td>\n",
       "      <td>23.80</td>\n",
       "      <td>17.62</td>\n",
       "      <td>11.73</td>\n",
       "      <td>...</td>\n",
       "      <td>0.002371</td>\n",
       "      <td>2.0</td>\n",
       "      <td>-49.6</td>\n",
       "      <td>-54</td>\n",
       "      <td>-152.0</td>\n",
       "      <td>-353.0</td>\n",
       "      <td>1.000000</td>\n",
       "      <td>0.498547</td>\n",
       "      <td>0.701906</td>\n",
       "      <td>1</td>\n",
       "    </tr>\n",
       "    <tr>\n",
       "      <th>1</th>\n",
       "      <td>24</td>\n",
       "      <td>19</td>\n",
       "      <td>100.000000</td>\n",
       "      <td>78.571429</td>\n",
       "      <td>21.428571</td>\n",
       "      <td>74.275883</td>\n",
       "      <td>64.366798</td>\n",
       "      <td>11.45</td>\n",
       "      <td>18.16</td>\n",
       "      <td>12.22</td>\n",
       "      <td>...</td>\n",
       "      <td>0.003074</td>\n",
       "      <td>0.8</td>\n",
       "      <td>-55.6</td>\n",
       "      <td>-60</td>\n",
       "      <td>-158.0</td>\n",
       "      <td>-359.0</td>\n",
       "      <td>1.000000</td>\n",
       "      <td>0.537088</td>\n",
       "      <td>0.690833</td>\n",
       "      <td>1</td>\n",
       "    </tr>\n",
       "    <tr>\n",
       "      <th>2</th>\n",
       "      <td>30</td>\n",
       "      <td>24</td>\n",
       "      <td>100.000000</td>\n",
       "      <td>71.428571</td>\n",
       "      <td>28.571429</td>\n",
       "      <td>75.140402</td>\n",
       "      <td>65.915803</td>\n",
       "      <td>8.75</td>\n",
       "      <td>17.86</td>\n",
       "      <td>12.28</td>\n",
       "      <td>...</td>\n",
       "      <td>0.003561</td>\n",
       "      <td>2.7</td>\n",
       "      <td>-58.4</td>\n",
       "      <td>-60</td>\n",
       "      <td>-160.0</td>\n",
       "      <td>-362.0</td>\n",
       "      <td>1.000000</td>\n",
       "      <td>0.615169</td>\n",
       "      <td>0.693040</td>\n",
       "      <td>1</td>\n",
       "    </tr>\n",
       "    <tr>\n",
       "      <th>3</th>\n",
       "      <td>37</td>\n",
       "      <td>30</td>\n",
       "      <td>100.000000</td>\n",
       "      <td>64.285714</td>\n",
       "      <td>35.714286</td>\n",
       "      <td>76.677846</td>\n",
       "      <td>68.584234</td>\n",
       "      <td>7.80</td>\n",
       "      <td>14.76</td>\n",
       "      <td>12.61</td>\n",
       "      <td>...</td>\n",
       "      <td>0.004366</td>\n",
       "      <td>0.9</td>\n",
       "      <td>-61.8</td>\n",
       "      <td>-65</td>\n",
       "      <td>-166.0</td>\n",
       "      <td>-367.0</td>\n",
       "      <td>1.000000</td>\n",
       "      <td>0.661517</td>\n",
       "      <td>0.673418</td>\n",
       "      <td>1</td>\n",
       "    </tr>\n",
       "    <tr>\n",
       "      <th>4</th>\n",
       "      <td>41</td>\n",
       "      <td>37</td>\n",
       "      <td>100.000000</td>\n",
       "      <td>57.142857</td>\n",
       "      <td>42.857143</td>\n",
       "      <td>81.603007</td>\n",
       "      <td>76.455495</td>\n",
       "      <td>14.90</td>\n",
       "      <td>11.92</td>\n",
       "      <td>14.25</td>\n",
       "      <td>...</td>\n",
       "      <td>0.004198</td>\n",
       "      <td>0.1</td>\n",
       "      <td>-79.8</td>\n",
       "      <td>-86</td>\n",
       "      <td>-186.0</td>\n",
       "      <td>-388.0</td>\n",
       "      <td>1.000000</td>\n",
       "      <td>0.747204</td>\n",
       "      <td>0.700522</td>\n",
       "      <td>1</td>\n",
       "    </tr>\n",
       "    <tr>\n",
       "      <th>...</th>\n",
       "      <td>...</td>\n",
       "      <td>...</td>\n",
       "      <td>...</td>\n",
       "      <td>...</td>\n",
       "      <td>...</td>\n",
       "      <td>...</td>\n",
       "      <td>...</td>\n",
       "      <td>...</td>\n",
       "      <td>...</td>\n",
       "      <td>...</td>\n",
       "      <td>...</td>\n",
       "      <td>...</td>\n",
       "      <td>...</td>\n",
       "      <td>...</td>\n",
       "      <td>...</td>\n",
       "      <td>...</td>\n",
       "      <td>...</td>\n",
       "      <td>...</td>\n",
       "      <td>...</td>\n",
       "      <td>...</td>\n",
       "      <td>...</td>\n",
       "    </tr>\n",
       "    <tr>\n",
       "      <th>6162</th>\n",
       "      <td>27</td>\n",
       "      <td>31</td>\n",
       "      <td>57.142857</td>\n",
       "      <td>28.571429</td>\n",
       "      <td>28.571429</td>\n",
       "      <td>60.010531</td>\n",
       "      <td>32.362582</td>\n",
       "      <td>9.70</td>\n",
       "      <td>9.38</td>\n",
       "      <td>13.66</td>\n",
       "      <td>...</td>\n",
       "      <td>0.004633</td>\n",
       "      <td>14.7</td>\n",
       "      <td>-28.2</td>\n",
       "      <td>-40</td>\n",
       "      <td>-11.0</td>\n",
       "      <td>-270.0</td>\n",
       "      <td>0.270270</td>\n",
       "      <td>0.840000</td>\n",
       "      <td>0.600846</td>\n",
       "      <td>0</td>\n",
       "    </tr>\n",
       "    <tr>\n",
       "      <th>6163</th>\n",
       "      <td>22</td>\n",
       "      <td>27</td>\n",
       "      <td>50.000000</td>\n",
       "      <td>21.428571</td>\n",
       "      <td>28.571429</td>\n",
       "      <td>60.209998</td>\n",
       "      <td>32.914628</td>\n",
       "      <td>7.65</td>\n",
       "      <td>8.84</td>\n",
       "      <td>11.79</td>\n",
       "      <td>...</td>\n",
       "      <td>0.008511</td>\n",
       "      <td>14.3</td>\n",
       "      <td>-28.6</td>\n",
       "      <td>-41</td>\n",
       "      <td>-12.0</td>\n",
       "      <td>-271.0</td>\n",
       "      <td>0.000000</td>\n",
       "      <td>0.737470</td>\n",
       "      <td>0.527673</td>\n",
       "      <td>0</td>\n",
       "    </tr>\n",
       "    <tr>\n",
       "      <th>6164</th>\n",
       "      <td>19</td>\n",
       "      <td>22</td>\n",
       "      <td>42.857143</td>\n",
       "      <td>14.285714</td>\n",
       "      <td>28.571429</td>\n",
       "      <td>64.329611</td>\n",
       "      <td>43.550592</td>\n",
       "      <td>8.95</td>\n",
       "      <td>9.06</td>\n",
       "      <td>10.30</td>\n",
       "      <td>...</td>\n",
       "      <td>0.008848</td>\n",
       "      <td>5.7</td>\n",
       "      <td>-37.2</td>\n",
       "      <td>-49</td>\n",
       "      <td>-21.0</td>\n",
       "      <td>-280.0</td>\n",
       "      <td>0.769231</td>\n",
       "      <td>0.632107</td>\n",
       "      <td>0.551759</td>\n",
       "      <td>1</td>\n",
       "    </tr>\n",
       "    <tr>\n",
       "      <th>6165</th>\n",
       "      <td>19</td>\n",
       "      <td>19</td>\n",
       "      <td>100.000000</td>\n",
       "      <td>7.142857</td>\n",
       "      <td>92.857143</td>\n",
       "      <td>69.027764</td>\n",
       "      <td>54.130755</td>\n",
       "      <td>13.55</td>\n",
       "      <td>10.36</td>\n",
       "      <td>10.55</td>\n",
       "      <td>...</td>\n",
       "      <td>0.008940</td>\n",
       "      <td>1.4</td>\n",
       "      <td>-48.9</td>\n",
       "      <td>-61</td>\n",
       "      <td>-33.0</td>\n",
       "      <td>-292.0</td>\n",
       "      <td>1.000000</td>\n",
       "      <td>0.733010</td>\n",
       "      <td>0.591584</td>\n",
       "      <td>1</td>\n",
       "    </tr>\n",
       "    <tr>\n",
       "      <th>6166</th>\n",
       "      <td>19</td>\n",
       "      <td>19</td>\n",
       "      <td>92.857143</td>\n",
       "      <td>0.000000</td>\n",
       "      <td>92.857143</td>\n",
       "      <td>65.157180</td>\n",
       "      <td>45.524973</td>\n",
       "      <td>11.45</td>\n",
       "      <td>10.16</td>\n",
       "      <td>9.68</td>\n",
       "      <td>...</td>\n",
       "      <td>0.008685</td>\n",
       "      <td>6.3</td>\n",
       "      <td>-44.0</td>\n",
       "      <td>-56</td>\n",
       "      <td>-28.0</td>\n",
       "      <td>-288.0</td>\n",
       "      <td>1.000000</td>\n",
       "      <td>0.687500</td>\n",
       "      <td>0.593936</td>\n",
       "      <td>1</td>\n",
       "    </tr>\n",
       "  </tbody>\n",
       "</table>\n",
       "<p>5126 rows × 133 columns</p>\n",
       "</div>"
      ],
      "text/plain": [
       "      ind_5  ind_6       ind_8      ind_9     ind_10     ind_12     ind_13  \\\n",
       "0        19     17  100.000000  85.714286  14.285714  72.363515  60.808814   \n",
       "1        24     19  100.000000  78.571429  21.428571  74.275883  64.366798   \n",
       "2        30     24  100.000000  71.428571  28.571429  75.140402  65.915803   \n",
       "3        37     30  100.000000  64.285714  35.714286  76.677846  68.584234   \n",
       "4        41     37  100.000000  57.142857  42.857143  81.603007  76.455495   \n",
       "...     ...    ...         ...        ...        ...        ...        ...   \n",
       "6162     27     31   57.142857  28.571429  28.571429  60.010531  32.362582   \n",
       "6163     22     27   50.000000  21.428571  28.571429  60.209998  32.914628   \n",
       "6164     19     22   42.857143  14.285714  28.571429  64.329611  43.550592   \n",
       "6165     19     19  100.000000   7.142857  92.857143  69.027764  54.130755   \n",
       "6166     19     19   92.857143   0.000000  92.857143  65.157180  45.524973   \n",
       "\n",
       "      ind_14  ind_15  ind_16  ...   ind_412  ind_414  ind_416  ind_418  \\\n",
       "0      23.80   17.62   11.73  ...  0.002371      2.0    -49.6      -54   \n",
       "1      11.45   18.16   12.22  ...  0.003074      0.8    -55.6      -60   \n",
       "2       8.75   17.86   12.28  ...  0.003561      2.7    -58.4      -60   \n",
       "3       7.80   14.76   12.61  ...  0.004366      0.9    -61.8      -65   \n",
       "4      14.90   11.92   14.25  ...  0.004198      0.1    -79.8      -86   \n",
       "...      ...     ...     ...  ...       ...      ...      ...      ...   \n",
       "6162    9.70    9.38   13.66  ...  0.004633     14.7    -28.2      -40   \n",
       "6163    7.65    8.84   11.79  ...  0.008511     14.3    -28.6      -41   \n",
       "6164    8.95    9.06   10.30  ...  0.008848      5.7    -37.2      -49   \n",
       "6165   13.55   10.36   10.55  ...  0.008940      1.4    -48.9      -61   \n",
       "6166   11.45   10.16    9.68  ...  0.008685      6.3    -44.0      -56   \n",
       "\n",
       "      ind_420  ind_422   ind_424   ind_426   ind_428  GREEN  \n",
       "0      -152.0   -353.0  1.000000  0.498547  0.701906      1  \n",
       "1      -158.0   -359.0  1.000000  0.537088  0.690833      1  \n",
       "2      -160.0   -362.0  1.000000  0.615169  0.693040      1  \n",
       "3      -166.0   -367.0  1.000000  0.661517  0.673418      1  \n",
       "4      -186.0   -388.0  1.000000  0.747204  0.700522      1  \n",
       "...       ...      ...       ...       ...       ...    ...  \n",
       "6162    -11.0   -270.0  0.270270  0.840000  0.600846      0  \n",
       "6163    -12.0   -271.0  0.000000  0.737470  0.527673      0  \n",
       "6164    -21.0   -280.0  0.769231  0.632107  0.551759      1  \n",
       "6165    -33.0   -292.0  1.000000  0.733010  0.591584      1  \n",
       "6166    -28.0   -288.0  1.000000  0.687500  0.593936      1  \n",
       "\n",
       "[5126 rows x 133 columns]"
      ]
     },
     "execution_count": 10,
     "metadata": {},
     "output_type": "execute_result"
    }
   ],
   "source": [
    "data1"
   ]
  },
  {
   "cell_type": "code",
   "execution_count": 11,
   "metadata": {},
   "outputs": [
    {
     "data": {
      "text/html": [
       "<div>\n",
       "<style scoped>\n",
       "    .dataframe tbody tr th:only-of-type {\n",
       "        vertical-align: middle;\n",
       "    }\n",
       "\n",
       "    .dataframe tbody tr th {\n",
       "        vertical-align: top;\n",
       "    }\n",
       "\n",
       "    .dataframe thead th {\n",
       "        text-align: right;\n",
       "    }\n",
       "</style>\n",
       "<table border=\"1\" class=\"dataframe\">\n",
       "  <thead>\n",
       "    <tr style=\"text-align: right;\">\n",
       "      <th></th>\n",
       "      <th>90_target</th>\n",
       "      <th>50_target</th>\n",
       "      <th>20_target</th>\n",
       "    </tr>\n",
       "  </thead>\n",
       "  <tbody>\n",
       "    <tr>\n",
       "      <th>0</th>\n",
       "      <td>36.997753</td>\n",
       "      <td>35.625252</td>\n",
       "      <td>15.135802</td>\n",
       "    </tr>\n",
       "    <tr>\n",
       "      <th>1</th>\n",
       "      <td>37.016198</td>\n",
       "      <td>35.643013</td>\n",
       "      <td>15.143348</td>\n",
       "    </tr>\n",
       "    <tr>\n",
       "      <th>2</th>\n",
       "      <td>-37.024805</td>\n",
       "      <td>35.651301</td>\n",
       "      <td>15.146870</td>\n",
       "    </tr>\n",
       "    <tr>\n",
       "      <th>3</th>\n",
       "      <td>-37.040483</td>\n",
       "      <td>0.000000</td>\n",
       "      <td>15.153283</td>\n",
       "    </tr>\n",
       "    <tr>\n",
       "      <th>4</th>\n",
       "      <td>-37.103503</td>\n",
       "      <td>-35.727079</td>\n",
       "      <td>-15.179065</td>\n",
       "    </tr>\n",
       "    <tr>\n",
       "      <th>...</th>\n",
       "      <td>...</td>\n",
       "      <td>...</td>\n",
       "      <td>...</td>\n",
       "    </tr>\n",
       "    <tr>\n",
       "      <th>6162</th>\n",
       "      <td>-35.867088</td>\n",
       "      <td>-34.536532</td>\n",
       "      <td>14.673247</td>\n",
       "    </tr>\n",
       "    <tr>\n",
       "      <th>6163</th>\n",
       "      <td>-35.868318</td>\n",
       "      <td>-34.537716</td>\n",
       "      <td>14.673750</td>\n",
       "    </tr>\n",
       "    <tr>\n",
       "      <th>6164</th>\n",
       "      <td>-35.894755</td>\n",
       "      <td>-34.563173</td>\n",
       "      <td>-14.684566</td>\n",
       "    </tr>\n",
       "    <tr>\n",
       "      <th>6165</th>\n",
       "      <td>-35.930723</td>\n",
       "      <td>-34.597806</td>\n",
       "      <td>-14.699280</td>\n",
       "    </tr>\n",
       "    <tr>\n",
       "      <th>6166</th>\n",
       "      <td>-35.915659</td>\n",
       "      <td>-34.583301</td>\n",
       "      <td>-14.693117</td>\n",
       "    </tr>\n",
       "  </tbody>\n",
       "</table>\n",
       "<p>5126 rows × 3 columns</p>\n",
       "</div>"
      ],
      "text/plain": [
       "      90_target  50_target  20_target\n",
       "0     36.997753  35.625252  15.135802\n",
       "1     37.016198  35.643013  15.143348\n",
       "2    -37.024805  35.651301  15.146870\n",
       "3    -37.040483   0.000000  15.153283\n",
       "4    -37.103503 -35.727079 -15.179065\n",
       "...         ...        ...        ...\n",
       "6162 -35.867088 -34.536532  14.673247\n",
       "6163 -35.868318 -34.537716  14.673750\n",
       "6164 -35.894755 -34.563173 -14.684566\n",
       "6165 -35.930723 -34.597806 -14.699280\n",
       "6166 -35.915659 -34.583301 -14.693117\n",
       "\n",
       "[5126 rows x 3 columns]"
      ]
     },
     "execution_count": 11,
     "metadata": {},
     "output_type": "execute_result"
    }
   ],
   "source": [
    "targets"
   ]
  },
  {
   "cell_type": "code",
   "execution_count": 12,
   "metadata": {},
   "outputs": [],
   "source": [
    "X_train, X_test, y_train, y_test = train_test_split(data1,targets['90_target'],test_size=0.25,random_state=42)"
   ]
  },
  {
   "cell_type": "code",
   "execution_count": 13,
   "metadata": {},
   "outputs": [],
   "source": [
    "rf_model = RandomForestRegressor().fit(X_train, y_train)"
   ]
  },
  {
   "cell_type": "code",
   "execution_count": 14,
   "metadata": {},
   "outputs": [
    {
     "data": {
      "text/plain": [
       "15.206188739485615"
      ]
     },
     "execution_count": 14,
     "metadata": {},
     "output_type": "execute_result"
    }
   ],
   "source": [
    "y_pred = rf_model.predict(X_test)\n",
    "np.sqrt(mean_squared_error(y_test, y_pred))"
   ]
  },
  {
   "cell_type": "code",
   "execution_count": 15,
   "metadata": {
    "scrolled": true
   },
   "outputs": [
    {
     "data": {
      "text/plain": [
       "<matplotlib.axes._subplots.AxesSubplot at 0x15f9e520>"
      ]
     },
     "execution_count": 15,
     "metadata": {},
     "output_type": "execute_result"
    },
    {
     "data": {
      "image/png": "[encoded data removed]",
      "text/plain": [
       "<Figure size 720x2160 with 1 Axes>"
      ]
     },
     "metadata": {
      "needs_background": "light"
     },
     "output_type": "display_data"
    }
   ],
   "source": [
    "Importance = pd.DataFrame({\"Importance\": rf_model.feature_importances_*100},index = X_train.columns)\n",
    "Importance.sort_values(by = \"Importance\", axis = 0, ascending = True).plot(kind =\"barh\", color = \"r\",figsize=(10,30))\n",
    "\n"
   ]
  },
  {
   "cell_type": "code",
   "execution_count": 16,
   "metadata": {
    "scrolled": true
   },
   "outputs": [
    {
     "data": {
      "text/plain": [
       "Index(['ind_18', 'ind_51', 'ind_77', 'ind_132', 'ind_156', 'ind_225',\n",
       "       'ind_228', 'ind_237', 'ind_239', 'ind_241', 'ind_243', 'ind_309',\n",
       "       'ind_310', 'ind_311', 'ind_313', 'ind_315', 'ind_420', 'ind_422'],\n",
       "      dtype='object')"
      ]
     },
     "execution_count": 16,
     "metadata": {},
     "output_type": "execute_result"
    }
   ],
   "source": [
    "Importance[Importance[\"Importance\"]>2].index"
   ]
  },
  {
   "cell_type": "code",
   "execution_count": 12,
   "metadata": {},
   "outputs": [
    {
     "data": {
      "text/html": [
       "<div>\n",
       "<style scoped>\n",
       "    .dataframe tbody tr th:only-of-type {\n",
       "        vertical-align: middle;\n",
       "    }\n",
       "\n",
       "    .dataframe tbody tr th {\n",
       "        vertical-align: top;\n",
       "    }\n",
       "\n",
       "    .dataframe thead th {\n",
       "        text-align: right;\n",
       "    }\n",
       "</style>\n",
       "<table border=\"1\" class=\"dataframe\">\n",
       "  <thead>\n",
       "    <tr style=\"text-align: right;\">\n",
       "      <th></th>\n",
       "      <th>ind_18</th>\n",
       "      <th>ind_51</th>\n",
       "      <th>ind_77</th>\n",
       "      <th>ind_132</th>\n",
       "      <th>ind_156</th>\n",
       "      <th>ind_225</th>\n",
       "      <th>ind_228</th>\n",
       "      <th>ind_237</th>\n",
       "      <th>ind_239</th>\n",
       "      <th>ind_241</th>\n",
       "      <th>ind_243</th>\n",
       "      <th>ind_309</th>\n",
       "      <th>ind_310</th>\n",
       "      <th>ind_313</th>\n",
       "      <th>ind_315</th>\n",
       "      <th>ind_420</th>\n",
       "      <th>ind_422</th>\n",
       "    </tr>\n",
       "  </thead>\n",
       "  <tbody>\n",
       "    <tr>\n",
       "      <th>0</th>\n",
       "      <td>9.1100</td>\n",
       "      <td>-93</td>\n",
       "      <td>8</td>\n",
       "      <td>-125</td>\n",
       "      <td>58.888561</td>\n",
       "      <td>0.039883</td>\n",
       "      <td>1.200860</td>\n",
       "      <td>10.000000</td>\n",
       "      <td>0.000217</td>\n",
       "      <td>99.736250</td>\n",
       "      <td>1.200346</td>\n",
       "      <td>-0.000013</td>\n",
       "      <td>-1.524694</td>\n",
       "      <td>1.179209</td>\n",
       "      <td>-0.756946</td>\n",
       "      <td>-152.0</td>\n",
       "      <td>-353.0</td>\n",
       "    </tr>\n",
       "    <tr>\n",
       "      <th>1</th>\n",
       "      <td>9.2225</td>\n",
       "      <td>-96</td>\n",
       "      <td>8</td>\n",
       "      <td>-130</td>\n",
       "      <td>59.182324</td>\n",
       "      <td>0.039863</td>\n",
       "      <td>1.200700</td>\n",
       "      <td>9.090909</td>\n",
       "      <td>0.000217</td>\n",
       "      <td>99.668519</td>\n",
       "      <td>1.200129</td>\n",
       "      <td>-0.000013</td>\n",
       "      <td>-1.523934</td>\n",
       "      <td>1.179223</td>\n",
       "      <td>-0.756569</td>\n",
       "      <td>-158.0</td>\n",
       "      <td>-359.0</td>\n",
       "    </tr>\n",
       "    <tr>\n",
       "      <th>2</th>\n",
       "      <td>9.3125</td>\n",
       "      <td>-95</td>\n",
       "      <td>8</td>\n",
       "      <td>-132</td>\n",
       "      <td>59.318698</td>\n",
       "      <td>0.039854</td>\n",
       "      <td>1.200540</td>\n",
       "      <td>8.333333</td>\n",
       "      <td>0.000217</td>\n",
       "      <td>99.627319</td>\n",
       "      <td>1.199911</td>\n",
       "      <td>-0.000013</td>\n",
       "      <td>-1.523580</td>\n",
       "      <td>1.179236</td>\n",
       "      <td>-0.756393</td>\n",
       "      <td>-160.0</td>\n",
       "      <td>-362.0</td>\n",
       "    </tr>\n",
       "    <tr>\n",
       "      <th>3</th>\n",
       "      <td>9.4150</td>\n",
       "      <td>-97</td>\n",
       "      <td>8</td>\n",
       "      <td>-136</td>\n",
       "      <td>59.565979</td>\n",
       "      <td>0.039837</td>\n",
       "      <td>1.200380</td>\n",
       "      <td>7.692308</td>\n",
       "      <td>0.000217</td>\n",
       "      <td>99.567128</td>\n",
       "      <td>1.199694</td>\n",
       "      <td>-0.000013</td>\n",
       "      <td>-1.522935</td>\n",
       "      <td>1.179249</td>\n",
       "      <td>-0.756073</td>\n",
       "      <td>-166.0</td>\n",
       "      <td>-367.0</td>\n",
       "    </tr>\n",
       "    <tr>\n",
       "      <th>4</th>\n",
       "      <td>9.8925</td>\n",
       "      <td>-115</td>\n",
       "      <td>8</td>\n",
       "      <td>-156</td>\n",
       "      <td>60.535098</td>\n",
       "      <td>0.039769</td>\n",
       "      <td>1.200220</td>\n",
       "      <td>7.142857</td>\n",
       "      <td>0.000217</td>\n",
       "      <td>99.380024</td>\n",
       "      <td>1.199477</td>\n",
       "      <td>-0.000013</td>\n",
       "      <td>-1.520349</td>\n",
       "      <td>1.179263</td>\n",
       "      <td>-0.754789</td>\n",
       "      <td>-186.0</td>\n",
       "      <td>-388.0</td>\n",
       "    </tr>\n",
       "    <tr>\n",
       "      <th>...</th>\n",
       "      <td>...</td>\n",
       "      <td>...</td>\n",
       "      <td>...</td>\n",
       "      <td>...</td>\n",
       "      <td>...</td>\n",
       "      <td>...</td>\n",
       "      <td>...</td>\n",
       "      <td>...</td>\n",
       "      <td>...</td>\n",
       "      <td>...</td>\n",
       "      <td>...</td>\n",
       "      <td>...</td>\n",
       "      <td>...</td>\n",
       "      <td>...</td>\n",
       "      <td>...</td>\n",
       "      <td>...</td>\n",
       "      <td>...</td>\n",
       "    </tr>\n",
       "    <tr>\n",
       "      <th>6162</th>\n",
       "      <td>16.2175</td>\n",
       "      <td>-56</td>\n",
       "      <td>15</td>\n",
       "      <td>-38</td>\n",
       "      <td>51.648609</td>\n",
       "      <td>0.000948</td>\n",
       "      <td>1.193459</td>\n",
       "      <td>17.437186</td>\n",
       "      <td>0.000013</td>\n",
       "      <td>100.965196</td>\n",
       "      <td>1.178001</td>\n",
       "      <td>-0.000008</td>\n",
       "      <td>-0.163704</td>\n",
       "      <td>1.153205</td>\n",
       "      <td>-0.003428</td>\n",
       "      <td>-11.0</td>\n",
       "      <td>-270.0</td>\n",
       "    </tr>\n",
       "    <tr>\n",
       "      <th>6163</th>\n",
       "      <td>16.1175</td>\n",
       "      <td>-56</td>\n",
       "      <td>14</td>\n",
       "      <td>-39</td>\n",
       "      <td>51.664697</td>\n",
       "      <td>0.000948</td>\n",
       "      <td>1.193456</td>\n",
       "      <td>17.428428</td>\n",
       "      <td>0.000013</td>\n",
       "      <td>100.960612</td>\n",
       "      <td>1.177988</td>\n",
       "      <td>-0.000008</td>\n",
       "      <td>-0.163698</td>\n",
       "      <td>1.153213</td>\n",
       "      <td>-0.003428</td>\n",
       "      <td>-12.0</td>\n",
       "      <td>-271.0</td>\n",
       "    </tr>\n",
       "    <tr>\n",
       "      <th>6164</th>\n",
       "      <td>16.3125</td>\n",
       "      <td>-65</td>\n",
       "      <td>14</td>\n",
       "      <td>-47</td>\n",
       "      <td>52.010263</td>\n",
       "      <td>0.000948</td>\n",
       "      <td>1.193452</td>\n",
       "      <td>17.419679</td>\n",
       "      <td>0.000013</td>\n",
       "      <td>100.885130</td>\n",
       "      <td>1.177975</td>\n",
       "      <td>-0.000008</td>\n",
       "      <td>-0.163578</td>\n",
       "      <td>1.153221</td>\n",
       "      <td>-0.003426</td>\n",
       "      <td>-21.0</td>\n",
       "      <td>-280.0</td>\n",
       "    </tr>\n",
       "    <tr>\n",
       "      <th>6165</th>\n",
       "      <td>16.4200</td>\n",
       "      <td>-76</td>\n",
       "      <td>14</td>\n",
       "      <td>-59</td>\n",
       "      <td>52.474844</td>\n",
       "      <td>0.000947</td>\n",
       "      <td>1.193448</td>\n",
       "      <td>17.410938</td>\n",
       "      <td>0.000013</td>\n",
       "      <td>100.783022</td>\n",
       "      <td>1.177962</td>\n",
       "      <td>-0.000008</td>\n",
       "      <td>-0.163414</td>\n",
       "      <td>1.153230</td>\n",
       "      <td>-0.003422</td>\n",
       "      <td>-33.0</td>\n",
       "      <td>-292.0</td>\n",
       "    </tr>\n",
       "    <tr>\n",
       "      <th>6166</th>\n",
       "      <td>16.4500</td>\n",
       "      <td>-72</td>\n",
       "      <td>14</td>\n",
       "      <td>-54</td>\n",
       "      <td>52.261856</td>\n",
       "      <td>0.000947</td>\n",
       "      <td>1.193445</td>\n",
       "      <td>17.402207</td>\n",
       "      <td>0.000013</td>\n",
       "      <td>100.824169</td>\n",
       "      <td>1.177949</td>\n",
       "      <td>-0.000008</td>\n",
       "      <td>-0.163483</td>\n",
       "      <td>1.153238</td>\n",
       "      <td>-0.003424</td>\n",
       "      <td>-28.0</td>\n",
       "      <td>-288.0</td>\n",
       "    </tr>\n",
       "  </tbody>\n",
       "</table>\n",
       "<p>5126 rows × 17 columns</p>\n",
       "</div>"
      ],
      "text/plain": [
       "       ind_18  ind_51  ind_77  ind_132    ind_156   ind_225   ind_228  \\\n",
       "0      9.1100     -93       8     -125  58.888561  0.039883  1.200860   \n",
       "1      9.2225     -96       8     -130  59.182324  0.039863  1.200700   \n",
       "2      9.3125     -95       8     -132  59.318698  0.039854  1.200540   \n",
       "3      9.4150     -97       8     -136  59.565979  0.039837  1.200380   \n",
       "4      9.8925    -115       8     -156  60.535098  0.039769  1.200220   \n",
       "...       ...     ...     ...      ...        ...       ...       ...   \n",
       "6162  16.2175     -56      15      -38  51.648609  0.000948  1.193459   \n",
       "6163  16.1175     -56      14      -39  51.664697  0.000948  1.193456   \n",
       "6164  16.3125     -65      14      -47  52.010263  0.000948  1.193452   \n",
       "6165  16.4200     -76      14      -59  52.474844  0.000947  1.193448   \n",
       "6166  16.4500     -72      14      -54  52.261856  0.000947  1.193445   \n",
       "\n",
       "        ind_237   ind_239     ind_241   ind_243   ind_309   ind_310   ind_313  \\\n",
       "0     10.000000  0.000217   99.736250  1.200346 -0.000013 -1.524694  1.179209   \n",
       "1      9.090909  0.000217   99.668519  1.200129 -0.000013 -1.523934  1.179223   \n",
       "2      8.333333  0.000217   99.627319  1.199911 -0.000013 -1.523580  1.179236   \n",
       "3      7.692308  0.000217   99.567128  1.199694 -0.000013 -1.522935  1.179249   \n",
       "4      7.142857  0.000217   99.380024  1.199477 -0.000013 -1.520349  1.179263   \n",
       "...         ...       ...         ...       ...       ...       ...       ...   \n",
       "6162  17.437186  0.000013  100.965196  1.178001 -0.000008 -0.163704  1.153205   \n",
       "6163  17.428428  0.000013  100.960612  1.177988 -0.000008 -0.163698  1.153213   \n",
       "6164  17.419679  0.000013  100.885130  1.177975 -0.000008 -0.163578  1.153221   \n",
       "6165  17.410938  0.000013  100.783022  1.177962 -0.000008 -0.163414  1.153230   \n",
       "6166  17.402207  0.000013  100.824169  1.177949 -0.000008 -0.163483  1.153238   \n",
       "\n",
       "       ind_315  ind_420  ind_422  \n",
       "0    -0.756946   -152.0   -353.0  \n",
       "1    -0.756569   -158.0   -359.0  \n",
       "2    -0.756393   -160.0   -362.0  \n",
       "3    -0.756073   -166.0   -367.0  \n",
       "4    -0.754789   -186.0   -388.0  \n",
       "...        ...      ...      ...  \n",
       "6162 -0.003428    -11.0   -270.0  \n",
       "6163 -0.003428    -12.0   -271.0  \n",
       "6164 -0.003426    -21.0   -280.0  \n",
       "6165 -0.003422    -33.0   -292.0  \n",
       "6166 -0.003424    -28.0   -288.0  \n",
       "\n",
       "[5126 rows x 17 columns]"
      ]
     },
     "execution_count": 12,
     "metadata": {},
     "output_type": "execute_result"
    }
   ],
   "source": [
    "X=data1[['ind_18', 'ind_51', 'ind_77', 'ind_132', 'ind_156', 'ind_225','ind_228', 'ind_237', 'ind_239', 'ind_241', 'ind_243', 'ind_309','ind_310', 'ind_313', 'ind_315', 'ind_420', 'ind_422']]\n",
    "X"
   ]
  },
  {
   "cell_type": "code",
   "execution_count": 18,
   "metadata": {},
   "outputs": [
    {
     "data": {
      "text/plain": [
       "13.526411568284662"
      ]
     },
     "execution_count": 18,
     "metadata": {},
     "output_type": "execute_result"
    }
   ],
   "source": [
    "X_train, X_test, y_train, y_test = train_test_split(X,targets['90_target'],test_size=0.25,random_state=42)\n",
    "rf_model = RandomForestRegressor().fit(X_train, y_train)\n",
    "y_pred = rf_model.predict(X_test)\n",
    "np.sqrt(mean_squared_error(y_test, y_pred))"
   ]
  },
  {
   "cell_type": "code",
   "execution_count": 19,
   "metadata": {},
   "outputs": [],
   "source": [
    "rf_params = {'max_depth': list(range(1,10)),\n",
    "            'max_features': [5,10,15],\n",
    "            'n_estimators' : [100,150,300]}"
   ]
  },
  {
   "cell_type": "code",
   "execution_count": 20,
   "metadata": {},
   "outputs": [],
   "source": [
    "rf_model = RandomForestRegressor()\n",
    "rf_cv= GridSearchCV(rf_model,rf_params,cv = 10,n_jobs = -1,verbose=2)               "
   ]
  },
  {
   "cell_type": "code",
   "execution_count": 21,
   "metadata": {},
   "outputs": [
    {
     "name": "stdout",
     "output_type": "stream",
     "text": [
      "Fitting 10 folds for each of 81 candidates, totalling 810 fits\n"
     ]
    },
    {
     "name": "stderr",
     "output_type": "stream",
     "text": [
      "[Parallel(n_jobs=-1)]: Using backend LokyBackend with 4 concurrent workers.\n",
      "[Parallel(n_jobs=-1)]: Done  33 tasks      | elapsed:   11.1s\n",
      "[Parallel(n_jobs=-1)]: Done 154 tasks      | elapsed:   59.7s\n",
      "[Parallel(n_jobs=-1)]: Done 357 tasks      | elapsed:  3.4min\n",
      "[Parallel(n_jobs=-1)]: Done 640 tasks      | elapsed:  9.2min\n",
      "[Parallel(n_jobs=-1)]: Done 810 out of 810 | elapsed: 13.6min finished\n"
     ]
    },
    {
     "data": {
      "text/plain": [
       "GridSearchCV(cv=10, estimator=RandomForestRegressor(), n_jobs=-1,\n",
       "             param_grid={'max_depth': [1, 2, 3, 4, 5, 6, 7, 8, 9],\n",
       "                         'max_features': [5, 10, 15],\n",
       "                         'n_estimators': [100, 150, 300]},\n",
       "             verbose=2)"
      ]
     },
     "execution_count": 21,
     "metadata": {},
     "output_type": "execute_result"
    }
   ],
   "source": [
    "rf_cv.fit(X_train, y_train)"
   ]
  },
  {
   "cell_type": "code",
   "execution_count": 30,
   "metadata": {},
   "outputs": [
    {
     "data": {
      "text/plain": [
       "{'max_depth': 9, 'max_features': 15, 'n_estimators': 150}"
      ]
     },
     "execution_count": 30,
     "metadata": {},
     "output_type": "execute_result"
    }
   ],
   "source": [
    "rf_cv.best_params_"
   ]
  },
  {
   "cell_type": "code",
   "execution_count": 39,
   "metadata": {},
   "outputs": [
    {
     "data": {
      "text/plain": [
       "12.888192108399316"
      ]
     },
     "execution_count": 39,
     "metadata": {},
     "output_type": "execute_result"
    }
   ],
   "source": [
    "rf_tuned = RandomForestRegressor(max_depth  = 20, max_features = 6, n_estimators =500)\n",
    "rf_tuned.fit(X_train, y_train)\n",
    "y_pred = rf_tuned.predict(X_test)\n",
    "np.sqrt(mean_squared_error(y_test, y_pred))"
   ]
  },
  {
   "cell_type": "markdown",
   "metadata": {},
   "source": [
    "## CART\n"
   ]
  },
  {
   "cell_type": "code",
   "execution_count": 13,
   "metadata": {
    "scrolled": true
   },
   "outputs": [
    {
     "data": {
      "text/plain": [
       "17.9150237329754"
      ]
     },
     "execution_count": 13,
     "metadata": {},
     "output_type": "execute_result"
    }
   ],
   "source": [
    "X_train, X_test, y_train, y_test = train_test_split(X,targets['90_target'],test_size=0.25,random_state=42)\n",
    "cart_model = DecisionTreeRegressor()\n",
    "cart_model.fit(X_train, y_train)\n",
    "y_pred =cart_model.predict(X_test)\n",
    "print(np.sqrt(mean_squared_error(y_test, y_pred)))\n",
    "print(mean_absolute_error(y_pred, y_pred))"
   ]
  },
  {
   "cell_type": "code",
   "execution_count": 59,
   "metadata": {},
   "outputs": [],
   "source": [
    "?cart_model"
   ]
  },
  {
   "cell_type": "code",
   "execution_count": 14,
   "metadata": {},
   "outputs": [
    {
     "name": "stdout",
     "output_type": "stream",
     "text": [
      "Fitting 10 folds for each of 80 candidates, totalling 800 fits\n"
     ]
    },
    {
     "name": "stderr",
     "output_type": "stream",
     "text": [
      "[Parallel(n_jobs=-1)]: Using backend LokyBackend with 4 concurrent workers.\n",
      "[Parallel(n_jobs=-1)]: Done  33 tasks      | elapsed:    4.8s\n",
      "[Parallel(n_jobs=-1)]: Done 450 tasks      | elapsed:   36.5s\n",
      "[Parallel(n_jobs=-1)]: Done 653 tasks      | elapsed:  3.3min\n",
      "[Parallel(n_jobs=-1)]: Done 800 out of 800 | elapsed:  5.5min finished\n"
     ]
    },
    {
     "data": {
      "text/plain": [
       "GridSearchCV(cv=10, estimator=DecisionTreeRegressor(), n_jobs=-1,\n",
       "             param_grid={'criterion': ['mse', 'mae'],\n",
       "                         'max_leaf_nodes': range(2, 10),\n",
       "                         'min_samples_split': [2, 10, 20, 50, 100]},\n",
       "             verbose=2)"
      ]
     },
     "execution_count": 14,
     "metadata": {},
     "output_type": "execute_result"
    }
   ],
   "source": [
    "cart_params = {\"min_samples_split\": [2,10,20,50,100],\"max_leaf_nodes\": range(2,10),\"criterion\" : [\"mse\", \"mae\"]}\n",
    "cart_cv= GridSearchCV(cart_model, cart_params, cv = 10,n_jobs=-1,verbose=2)\n",
    "cart_cv.fit(X_train, y_train)"
   ]
  },
  {
   "cell_type": "code",
   "execution_count": 16,
   "metadata": {},
   "outputs": [
    {
     "data": {
      "text/plain": [
       "{'criterion': 'mse', 'max_leaf_nodes': 9, 'min_samples_split': 2}"
      ]
     },
     "execution_count": 16,
     "metadata": {},
     "output_type": "execute_result"
    }
   ],
   "source": [
    "cart_cv.best_params_"
   ]
  },
  {
   "cell_type": "code",
   "execution_count": 61,
   "metadata": {},
   "outputs": [
    {
     "data": {
      "text/plain": [
       "18.17491694074689"
      ]
     },
     "execution_count": 61,
     "metadata": {},
     "output_type": "execute_result"
    }
   ],
   "source": [
    "cart_tuned = DecisionTreeRegressor(min_samples_split = 2,criterion=\"mse\",max_depth = 50,splitter='best')\n",
    "cart_tuned.fit(X_train, y_train)\n",
    "y_pred = cart_tuned.predict(X_test)\n",
    "np.sqrt(mean_squared_error(y_test, y_pred))"
   ]
  },
  {
   "cell_type": "code",
   "execution_count": 64,
   "metadata": {},
   "outputs": [],
   "source": [
    "###Feature seçilmemiş orjinal dataset"
   ]
  },
  {
   "cell_type": "code",
   "execution_count": 62,
   "metadata": {},
   "outputs": [],
   "source": [
    "X_train, X_test, y_train, y_test = train_test_split(data1,targets['90_target'],test_size=0.25,random_state=42)"
   ]
  },
  {
   "cell_type": "code",
   "execution_count": 63,
   "metadata": {},
   "outputs": [
    {
     "data": {
      "text/plain": [
       "22.421584649757378"
      ]
     },
     "execution_count": 63,
     "metadata": {},
     "output_type": "execute_result"
    }
   ],
   "source": [
    "cart_tuned = DecisionTreeRegressor()\n",
    "cart_tuned.fit(X_train, y_train)\n",
    "y_pred = cart_tuned.predict(X_test)\n",
    "np.sqrt(mean_squared_error(y_test, y_pred))"
   ]
  },
  {
   "cell_type": "markdown",
   "metadata": {},
   "source": [
    "## NN"
   ]
  },
  {
   "cell_type": "code",
   "execution_count": 65,
   "metadata": {},
   "outputs": [],
   "source": [
    "X_train, X_test, y_train, y_test = train_test_split(X,targets['90_target'],test_size=0.25,random_state=42)"
   ]
  },
  {
   "cell_type": "code",
   "execution_count": 94,
   "metadata": {},
   "outputs": [],
   "source": [
    "from sklearn.preprocessing import StandardScaler\n",
    "scaler = StandardScaler()\n",
    "scaler.fit(X_train)\n",
    "X_train_scaled = scaler.transform(X_train)\n",
    "X_test_scaled = scaler.transform(X_test)"
   ]
  },
  {
   "cell_type": "code",
   "execution_count": 155,
   "metadata": {},
   "outputs": [
    {
     "data": {
      "text/plain": [
       "MLPRegressor()"
      ]
     },
     "execution_count": 155,
     "metadata": {},
     "output_type": "execute_result"
    }
   ],
   "source": [
    "mlp_model = MLPRegressor()\n",
    "mlp_model.fit(X_train_scaled, y_train)"
   ]
  },
  {
   "cell_type": "code",
   "execution_count": 97,
   "metadata": {},
   "outputs": [],
   "source": [
    "?mlp_model"
   ]
  },
  {
   "cell_type": "code",
   "execution_count": 68,
   "metadata": {},
   "outputs": [
    {
     "data": {
      "text/plain": [
       "29.661459484482872"
      ]
     },
     "execution_count": 68,
     "metadata": {},
     "output_type": "execute_result"
    }
   ],
   "source": [
    "y_pred = mlp_model.predict(X_test_scaled)\n",
    "np.sqrt(mean_squared_error(y_test, y_pred))"
   ]
  },
  {
   "cell_type": "code",
   "execution_count": 106,
   "metadata": {},
   "outputs": [],
   "source": [
    "mlp_model = MLPRegressor()\n",
    "mlp_params = {'alpha': [0.1, 0.01,0.02],\n",
    "             'hidden_layer_sizes': [(20,50),(50,10),(100,50)],\n",
    "             'activation': ['relu','logistic'],'solver' : ['sgd', 'adam']}\n",
    "mlp_cv_model = GridSearchCV(mlp_model, mlp_params, cv = 10,n_jobs=-1,verbose=2)"
   ]
  },
  {
   "cell_type": "code",
   "execution_count": 107,
   "metadata": {
    "scrolled": true
   },
   "outputs": [
    {
     "data": {
      "text/plain": [
       "array([[ 0.5046814 , -1.26069699,  1.26806315, ..., -0.69833331,\n",
       "        -0.44321417, -0.84979434],\n",
       "       [-0.62744899,  0.23124292, -0.83763792, ...,  0.4746996 ,\n",
       "        -0.24039998,  0.34485397],\n",
       "       [-0.48975745, -0.40283154,  1.18032561, ..., -1.26418648,\n",
       "        -0.13899288,  0.16044517],\n",
       "       ...,\n",
       "       [-0.82251199,  0.95856363, -0.74990037, ...,  0.81685926,\n",
       "         0.10607427,  0.6735827 ],\n",
       "       [-0.0384352 , -0.1603913 , -0.92537546, ...,  0.81685926,\n",
       "         0.81592393,  0.49719167],\n",
       "       [ 0.16140876, -0.45877928,  1.09258806, ...,  0.80714845,\n",
       "        -1.49108749, -0.52908339]])"
      ]
     },
     "execution_count": 107,
     "metadata": {},
     "output_type": "execute_result"
    }
   ],
   "source": [
    "X_train_scaled"
   ]
  },
  {
   "cell_type": "code",
   "execution_count": 108,
   "metadata": {},
   "outputs": [
    {
     "name": "stdout",
     "output_type": "stream",
     "text": [
      "Fitting 10 folds for each of 36 candidates, totalling 360 fits\n"
     ]
    },
    {
     "name": "stderr",
     "output_type": "stream",
     "text": [
      "[Parallel(n_jobs=-1)]: Using backend LokyBackend with 4 concurrent workers.\n",
      "[Parallel(n_jobs=-1)]: Done  33 tasks      | elapsed:   54.0s\n",
      "[Parallel(n_jobs=-1)]: Done 154 tasks      | elapsed:  5.3min\n",
      "[Parallel(n_jobs=-1)]: Done 360 out of 360 | elapsed: 13.1min finished\n"
     ]
    },
    {
     "data": {
      "text/plain": [
       "GridSearchCV(cv=10, estimator=MLPRegressor(), n_jobs=-1,\n",
       "             param_grid={'activation': ['relu', 'logistic'],\n",
       "                         'alpha': [0.1, 0.01, 0.02],\n",
       "                         'hidden_layer_sizes': [(20, 50), (50, 10), (100, 50)],\n",
       "                         'solver': ['sgd', 'adam']},\n",
       "             verbose=2)"
      ]
     },
     "execution_count": 108,
     "metadata": {},
     "output_type": "execute_result"
    }
   ],
   "source": [
    "mlp_cv_model.fit(X_train_scaled, y_train)"
   ]
  },
  {
   "cell_type": "code",
   "execution_count": 148,
   "metadata": {},
   "outputs": [
    {
     "data": {
      "text/plain": [
       "{'activation': 'relu',\n",
       " 'alpha': 0.01,\n",
       " 'hidden_layer_sizes': (100, 50),\n",
       " 'solver': 'sgd'}"
      ]
     },
     "execution_count": 148,
     "metadata": {},
     "output_type": "execute_result"
    }
   ],
   "source": [
    "mlp_cv_model.best_params_"
   ]
  },
  {
   "cell_type": "code",
   "execution_count": 178,
   "metadata": {},
   "outputs": [],
   "source": [
    "mlp_tuned = MLPRegressor(activation='relu',alpha=0.01,hidden_layer_sizes=(100,200),solver='sgd')"
   ]
  },
  {
   "cell_type": "code",
   "execution_count": 179,
   "metadata": {},
   "outputs": [
    {
     "data": {
      "text/plain": [
       "17.88706713579722"
      ]
     },
     "execution_count": 179,
     "metadata": {},
     "output_type": "execute_result"
    }
   ],
   "source": [
    "mlp_tuned.fit(X_train_scaled, y_train)\n",
    "y_pred = mlp_tuned.predict(X_test_scaled)\n",
    "np.sqrt(mean_squared_error(y_test, y_pred))"
   ]
  },
  {
   "cell_type": "code",
   "execution_count": 135,
   "metadata": {},
   "outputs": [],
   "source": [
    "?mlp_tuned"
   ]
  },
  {
   "cell_type": "code",
   "execution_count": null,
   "metadata": {},
   "outputs": [],
   "source": []
  }
 ],
 "metadata": {
  "kernelspec": {
   "display_name": "Python 3",
   "language": "python",
   "name": "python3"
  },
  "language_info": {
   "codemirror_mode": {
    "name": "ipython",
    "version": 3
   },
   "file_extension": ".py",
   "mimetype": "text/x-python",
   "name": "python",
   "nbconvert_exporter": "python",
   "pygments_lexer": "ipython3",
   "version": "3.7.5"
  }
 },
 "nbformat": 4,
 "nbformat_minor": 4
}
