{
 "cells": [
  {
   "cell_type": "code",
   "execution_count": 110,
   "metadata": {},
   "outputs": [],
   "source": [
    "import pandas as pd\n",
    "import seaborn as sns\n",
    "import matplotlib.pyplot as plt\n",
    "import numpy as np\n"
   ]
  },
  {
   "cell_type": "code",
   "execution_count": 89,
   "metadata": {},
   "outputs": [],
   "source": [
    "data=pd.read_excel(\"dataset.xlsx\")"
   ]
  },
  {
   "cell_type": "code",
   "execution_count": 130,
   "metadata": {},
   "outputs": [
    {
     "data": {
      "text/html": [
       "<div>\n",
       "<style scoped>\n",
       "    .dataframe tbody tr th:only-of-type {\n",
       "        vertical-align: middle;\n",
       "    }\n",
       "\n",
       "    .dataframe tbody tr th {\n",
       "        vertical-align: top;\n",
       "    }\n",
       "\n",
       "    .dataframe thead th {\n",
       "        text-align: right;\n",
       "    }\n",
       "</style>\n",
       "<table border=\"1\" class=\"dataframe\">\n",
       "  <thead>\n",
       "    <tr style=\"text-align: right;\">\n",
       "      <th></th>\n",
       "      <th>count</th>\n",
       "      <th>mean</th>\n",
       "      <th>std</th>\n",
       "      <th>min</th>\n",
       "      <th>25%</th>\n",
       "      <th>50%</th>\n",
       "      <th>75%</th>\n",
       "      <th>max</th>\n",
       "    </tr>\n",
       "  </thead>\n",
       "  <tbody>\n",
       "    <tr>\n",
       "      <th>ind_5</th>\n",
       "      <td>5126.0</td>\n",
       "      <td>-1.251853</td>\n",
       "      <td>23.546553</td>\n",
       "      <td>-131.000000</td>\n",
       "      <td>-14.000000</td>\n",
       "      <td>0.000000</td>\n",
       "      <td>13.000000</td>\n",
       "      <td>69.000000</td>\n",
       "    </tr>\n",
       "    <tr>\n",
       "      <th>ind_6</th>\n",
       "      <td>5126.0</td>\n",
       "      <td>-1.240148</td>\n",
       "      <td>23.550694</td>\n",
       "      <td>-131.000000</td>\n",
       "      <td>-14.000000</td>\n",
       "      <td>0.000000</td>\n",
       "      <td>13.000000</td>\n",
       "      <td>69.000000</td>\n",
       "    </tr>\n",
       "    <tr>\n",
       "      <th>ind_8</th>\n",
       "      <td>5126.0</td>\n",
       "      <td>49.016220</td>\n",
       "      <td>36.340676</td>\n",
       "      <td>0.000000</td>\n",
       "      <td>14.285714</td>\n",
       "      <td>50.000000</td>\n",
       "      <td>85.714286</td>\n",
       "      <td>100.000000</td>\n",
       "    </tr>\n",
       "    <tr>\n",
       "      <th>ind_9</th>\n",
       "      <td>5126.0</td>\n",
       "      <td>48.042194</td>\n",
       "      <td>36.619184</td>\n",
       "      <td>0.000000</td>\n",
       "      <td>14.285714</td>\n",
       "      <td>42.857143</td>\n",
       "      <td>85.714286</td>\n",
       "      <td>100.000000</td>\n",
       "    </tr>\n",
       "    <tr>\n",
       "      <th>ind_10</th>\n",
       "      <td>5126.0</td>\n",
       "      <td>0.974026</td>\n",
       "      <td>60.375932</td>\n",
       "      <td>-100.000000</td>\n",
       "      <td>-50.000000</td>\n",
       "      <td>7.142857</td>\n",
       "      <td>57.142857</td>\n",
       "      <td>100.000000</td>\n",
       "    </tr>\n",
       "    <tr>\n",
       "      <th>...</th>\n",
       "      <td>...</td>\n",
       "      <td>...</td>\n",
       "      <td>...</td>\n",
       "      <td>...</td>\n",
       "      <td>...</td>\n",
       "      <td>...</td>\n",
       "      <td>...</td>\n",
       "      <td>...</td>\n",
       "    </tr>\n",
       "    <tr>\n",
       "      <th>ind_426</th>\n",
       "      <td>5126.0</td>\n",
       "      <td>0.496659</td>\n",
       "      <td>0.231322</td>\n",
       "      <td>0.000000</td>\n",
       "      <td>0.316777</td>\n",
       "      <td>0.494094</td>\n",
       "      <td>0.677657</td>\n",
       "      <td>1.000000</td>\n",
       "    </tr>\n",
       "    <tr>\n",
       "      <th>ind_428</th>\n",
       "      <td>5126.0</td>\n",
       "      <td>0.487013</td>\n",
       "      <td>0.151328</td>\n",
       "      <td>0.083530</td>\n",
       "      <td>0.373447</td>\n",
       "      <td>0.490489</td>\n",
       "      <td>0.600395</td>\n",
       "      <td>0.868534</td>\n",
       "    </tr>\n",
       "    <tr>\n",
       "      <th>20_target</th>\n",
       "      <td>5126.0</td>\n",
       "      <td>-0.022710</td>\n",
       "      <td>14.775880</td>\n",
       "      <td>-15.780588</td>\n",
       "      <td>-15.229653</td>\n",
       "      <td>0.000000</td>\n",
       "      <td>15.389812</td>\n",
       "      <td>15.768767</td>\n",
       "    </tr>\n",
       "    <tr>\n",
       "      <th>50_target</th>\n",
       "      <td>5126.0</td>\n",
       "      <td>-3.528451</td>\n",
       "      <td>34.294926</td>\n",
       "      <td>-37.142889</td>\n",
       "      <td>-36.096054</td>\n",
       "      <td>-34.282556</td>\n",
       "      <td>35.374015</td>\n",
       "      <td>37.038694</td>\n",
       "    </tr>\n",
       "    <tr>\n",
       "      <th>90_target</th>\n",
       "      <td>5126.0</td>\n",
       "      <td>-4.115568</td>\n",
       "      <td>36.654690</td>\n",
       "      <td>-38.573858</td>\n",
       "      <td>-37.615191</td>\n",
       "      <td>-35.809448</td>\n",
       "      <td>37.463791</td>\n",
       "      <td>38.465649</td>\n",
       "    </tr>\n",
       "  </tbody>\n",
       "</table>\n",
       "<p>135 rows × 8 columns</p>\n",
       "</div>"
      ],
      "text/plain": [
       "            count       mean        std         min        25%        50%  \\\n",
       "ind_5      5126.0  -1.251853  23.546553 -131.000000 -14.000000   0.000000   \n",
       "ind_6      5126.0  -1.240148  23.550694 -131.000000 -14.000000   0.000000   \n",
       "ind_8      5126.0  49.016220  36.340676    0.000000  14.285714  50.000000   \n",
       "ind_9      5126.0  48.042194  36.619184    0.000000  14.285714  42.857143   \n",
       "ind_10     5126.0   0.974026  60.375932 -100.000000 -50.000000   7.142857   \n",
       "...           ...        ...        ...         ...        ...        ...   \n",
       "ind_426    5126.0   0.496659   0.231322    0.000000   0.316777   0.494094   \n",
       "ind_428    5126.0   0.487013   0.151328    0.083530   0.373447   0.490489   \n",
       "20_target  5126.0  -0.022710  14.775880  -15.780588 -15.229653   0.000000   \n",
       "50_target  5126.0  -3.528451  34.294926  -37.142889 -36.096054 -34.282556   \n",
       "90_target  5126.0  -4.115568  36.654690  -38.573858 -37.615191 -35.809448   \n",
       "\n",
       "                 75%         max  \n",
       "ind_5      13.000000   69.000000  \n",
       "ind_6      13.000000   69.000000  \n",
       "ind_8      85.714286  100.000000  \n",
       "ind_9      85.714286  100.000000  \n",
       "ind_10     57.142857  100.000000  \n",
       "...              ...         ...  \n",
       "ind_426     0.677657    1.000000  \n",
       "ind_428     0.600395    0.868534  \n",
       "20_target  15.389812   15.768767  \n",
       "50_target  35.374015   37.038694  \n",
       "90_target  37.463791   38.465649  \n",
       "\n",
       "[135 rows x 8 columns]"
      ]
     },
     "execution_count": 130,
     "metadata": {},
     "output_type": "execute_result"
    }
   ],
   "source": [
    "data.describe().T"
   ]
  },
  {
   "cell_type": "code",
   "execution_count": 101,
   "metadata": {},
   "outputs": [],
   "source": [
    "data=data.replace('?',np.nan)"
   ]
  },
  {
   "cell_type": "code",
   "execution_count": 116,
   "metadata": {},
   "outputs": [],
   "source": [
    "data=data.dropna(axis=0,how=\"any\")"
   ]
  },
  {
   "cell_type": "code",
   "execution_count": 124,
   "metadata": {},
   "outputs": [
    {
     "data": {
      "image/png": "[encoded data removed]",
      "text/plain": [
       "<Figure size 1440x360 with 3 Axes>"
      ]
     },
     "metadata": {
      "needs_background": "light"
     },
     "output_type": "display_data"
    }
   ],
   "source": [
    "fig, ax = plt.subplots(1,3, figsize = (20, 5))\n",
    "sns.distplot(data[\"20_target\"], ax = ax[0])\n",
    "ax[0].set_title(\"20_target\")\n",
    "sns.distplot(data[\"50_target\"], ax = ax[1])\n",
    "ax[1].set_title(\"50_target\")\n",
    "sns.distplot(data[\"90_target\"], ax = ax[2])\n",
    "ax[2].set_title(\"90_target\")\n",
    "plt.show()"
   ]
  },
  {
   "cell_type": "code",
   "execution_count": 125,
   "metadata": {},
   "outputs": [],
   "source": [
    "ab=((data.corr()[\"90_target\"]))\n",
    "abc=pd.DataFrame(ab)"
   ]
  },
  {
   "cell_type": "code",
   "execution_count": 143,
   "metadata": {},
   "outputs": [
    {
     "data": {
      "text/html": [
       "<div>\n",
       "<style scoped>\n",
       "    .dataframe tbody tr th:only-of-type {\n",
       "        vertical-align: middle;\n",
       "    }\n",
       "\n",
       "    .dataframe tbody tr th {\n",
       "        vertical-align: top;\n",
       "    }\n",
       "\n",
       "    .dataframe thead th {\n",
       "        text-align: right;\n",
       "    }\n",
       "</style>\n",
       "<table border=\"1\" class=\"dataframe\">\n",
       "  <thead>\n",
       "    <tr style=\"text-align: right;\">\n",
       "      <th></th>\n",
       "      <th>90_target</th>\n",
       "    </tr>\n",
       "  </thead>\n",
       "  <tbody>\n",
       "    <tr>\n",
       "      <th>ind_36</th>\n",
       "      <td>0.091511</td>\n",
       "    </tr>\n",
       "    <tr>\n",
       "      <th>ind_332</th>\n",
       "      <td>0.104910</td>\n",
       "    </tr>\n",
       "    <tr>\n",
       "      <th>ind_77</th>\n",
       "      <td>0.107244</td>\n",
       "    </tr>\n",
       "    <tr>\n",
       "      <th>ind_16</th>\n",
       "      <td>0.112978</td>\n",
       "    </tr>\n",
       "    <tr>\n",
       "      <th>ind_17</th>\n",
       "      <td>0.131409</td>\n",
       "    </tr>\n",
       "    <tr>\n",
       "      <th>ind_412</th>\n",
       "      <td>0.134286</td>\n",
       "    </tr>\n",
       "    <tr>\n",
       "      <th>ind_18</th>\n",
       "      <td>0.142171</td>\n",
       "    </tr>\n",
       "    <tr>\n",
       "      <th>20_target</th>\n",
       "      <td>0.344982</td>\n",
       "    </tr>\n",
       "    <tr>\n",
       "      <th>50_target</th>\n",
       "      <td>0.935970</td>\n",
       "    </tr>\n",
       "    <tr>\n",
       "      <th>90_target</th>\n",
       "      <td>1.000000</td>\n",
       "    </tr>\n",
       "  </tbody>\n",
       "</table>\n",
       "</div>"
      ],
      "text/plain": [
       "           90_target\n",
       "ind_36      0.091511\n",
       "ind_332     0.104910\n",
       "ind_77      0.107244\n",
       "ind_16      0.112978\n",
       "ind_17      0.131409\n",
       "ind_412     0.134286\n",
       "ind_18      0.142171\n",
       "20_target   0.344982\n",
       "50_target   0.935970\n",
       "90_target   1.000000"
      ]
     },
     "execution_count": 143,
     "metadata": {},
     "output_type": "execute_result"
    }
   ],
   "source": [
    "abc.sort_values(by=['90_target']).tail(10)"
   ]
  },
  {
   "cell_type": "code",
   "execution_count": 127,
   "metadata": {},
   "outputs": [
    {
     "data": {
      "image/png": "[encoded data removed]",
      "text/plain": [
       "<Figure size 432x432 with 3 Axes>"
      ]
     },
     "metadata": {
      "needs_background": "light"
     },
     "output_type": "display_data"
    }
   ],
   "source": [
    "sns.jointplot(x=\"ind_18\",y=\"90_target\",data=data, kind=\"reg\");"
   ]
  },
  {
   "cell_type": "code",
   "execution_count": 104,
   "metadata": {},
   "outputs": [],
   "source": [
    "import statsmodels.api as sm "
   ]
  },
  {
   "cell_type": "code",
   "execution_count": 105,
   "metadata": {},
   "outputs": [
    {
     "data": {
      "text/html": [
       "<div>\n",
       "<style scoped>\n",
       "    .dataframe tbody tr th:only-of-type {\n",
       "        vertical-align: middle;\n",
       "    }\n",
       "\n",
       "    .dataframe tbody tr th {\n",
       "        vertical-align: top;\n",
       "    }\n",
       "\n",
       "    .dataframe thead th {\n",
       "        text-align: right;\n",
       "    }\n",
       "</style>\n",
       "<table border=\"1\" class=\"dataframe\">\n",
       "  <thead>\n",
       "    <tr style=\"text-align: right;\">\n",
       "      <th></th>\n",
       "      <th>const</th>\n",
       "      <th>ind_18</th>\n",
       "    </tr>\n",
       "  </thead>\n",
       "  <tbody>\n",
       "    <tr>\n",
       "      <th>0</th>\n",
       "      <td>1.0</td>\n",
       "      <td>9.1100</td>\n",
       "    </tr>\n",
       "    <tr>\n",
       "      <th>1</th>\n",
       "      <td>1.0</td>\n",
       "      <td>9.2225</td>\n",
       "    </tr>\n",
       "    <tr>\n",
       "      <th>2</th>\n",
       "      <td>1.0</td>\n",
       "      <td>9.3125</td>\n",
       "    </tr>\n",
       "    <tr>\n",
       "      <th>3</th>\n",
       "      <td>1.0</td>\n",
       "      <td>9.4150</td>\n",
       "    </tr>\n",
       "    <tr>\n",
       "      <th>4</th>\n",
       "      <td>1.0</td>\n",
       "      <td>9.8925</td>\n",
       "    </tr>\n",
       "  </tbody>\n",
       "</table>\n",
       "</div>"
      ],
      "text/plain": [
       "   const  ind_18\n",
       "0    1.0  9.1100\n",
       "1    1.0  9.2225\n",
       "2    1.0  9.3125\n",
       "3    1.0  9.4150\n",
       "4    1.0  9.8925"
      ]
     },
     "execution_count": 105,
     "metadata": {},
     "output_type": "execute_result"
    }
   ],
   "source": [
    "x=data[[\"ind_18\"]]\n",
    "x[0:5]\n",
    "x=sm.add_constant(x) # B1 ekleniyor.\n",
    "x[0:5]\n",
    "y=data[[\"90_target\"]]\n",
    "x[0:5]"
   ]
  },
  {
   "cell_type": "code",
   "execution_count": 128,
   "metadata": {},
   "outputs": [
    {
     "data": {
      "text/html": [
       "<table class=\"simpletable\">\n",
       "<caption>OLS Regression Results</caption>\n",
       "<tr>\n",
       "  <th>Dep. Variable:</th>        <td>90_target</td>    <th>  R-squared:         </th> <td>   0.020</td> \n",
       "</tr>\n",
       "<tr>\n",
       "  <th>Model:</th>                   <td>OLS</td>       <th>  Adj. R-squared:    </th> <td>   0.020</td> \n",
       "</tr>\n",
       "<tr>\n",
       "  <th>Method:</th>             <td>Least Squares</td>  <th>  F-statistic:       </th> <td>   124.8</td> \n",
       "</tr>\n",
       "<tr>\n",
       "  <th>Date:</th>             <td>Thu, 23 Jul 2020</td> <th>  Prob (F-statistic):</th> <td>1.04e-28</td> \n",
       "</tr>\n",
       "<tr>\n",
       "  <th>Time:</th>                 <td>17:20:46</td>     <th>  Log-Likelihood:    </th> <td> -30930.</td> \n",
       "</tr>\n",
       "<tr>\n",
       "  <th>No. Observations:</th>      <td>  6167</td>      <th>  AIC:               </th> <td>6.186e+04</td>\n",
       "</tr>\n",
       "<tr>\n",
       "  <th>Df Residuals:</th>          <td>  6165</td>      <th>  BIC:               </th> <td>6.188e+04</td>\n",
       "</tr>\n",
       "<tr>\n",
       "  <th>Df Model:</th>              <td>     1</td>      <th>                     </th>     <td> </td>    \n",
       "</tr>\n",
       "<tr>\n",
       "  <th>Covariance Type:</th>      <td>nonrobust</td>    <th>                     </th>     <td> </td>    \n",
       "</tr>\n",
       "</table>\n",
       "<table class=\"simpletable\">\n",
       "<tr>\n",
       "     <td></td>       <th>coef</th>     <th>std err</th>      <th>t</th>      <th>P>|t|</th>  <th>[0.025</th>    <th>0.975]</th>  \n",
       "</tr>\n",
       "<tr>\n",
       "  <th>const</th>  <td>  -25.8498</td> <td>    2.070</td> <td>  -12.489</td> <td> 0.000</td> <td>  -29.907</td> <td>  -21.792</td>\n",
       "</tr>\n",
       "<tr>\n",
       "  <th>ind_18</th> <td>    1.9169</td> <td>    0.172</td> <td>   11.173</td> <td> 0.000</td> <td>    1.581</td> <td>    2.253</td>\n",
       "</tr>\n",
       "</table>\n",
       "<table class=\"simpletable\">\n",
       "<tr>\n",
       "  <th>Omnibus:</th>       <td>23170.861</td> <th>  Durbin-Watson:     </th> <td>   0.299</td> \n",
       "</tr>\n",
       "<tr>\n",
       "  <th>Prob(Omnibus):</th>  <td> 0.000</td>   <th>  Jarque-Bera (JB):  </th> <td> 931.107</td> \n",
       "</tr>\n",
       "<tr>\n",
       "  <th>Skew:</th>           <td> 0.170</td>   <th>  Prob(JB):          </th> <td>6.50e-203</td>\n",
       "</tr>\n",
       "<tr>\n",
       "  <th>Kurtosis:</th>       <td> 1.127</td>   <th>  Cond. No.          </th> <td>    54.1</td> \n",
       "</tr>\n",
       "</table><br/><br/>Warnings:<br/>[1] Standard Errors assume that the covariance matrix of the errors is correctly specified."
      ],
      "text/plain": [
       "<class 'statsmodels.iolib.summary.Summary'>\n",
       "\"\"\"\n",
       "                            OLS Regression Results                            \n",
       "==============================================================================\n",
       "Dep. Variable:              90_target   R-squared:                       0.020\n",
       "Model:                            OLS   Adj. R-squared:                  0.020\n",
       "Method:                 Least Squares   F-statistic:                     124.8\n",
       "Date:                Thu, 23 Jul 2020   Prob (F-statistic):           1.04e-28\n",
       "Time:                        17:20:46   Log-Likelihood:                -30930.\n",
       "No. Observations:                6167   AIC:                         6.186e+04\n",
       "Df Residuals:                    6165   BIC:                         6.188e+04\n",
       "Df Model:                           1                                         \n",
       "Covariance Type:            nonrobust                                         \n",
       "==============================================================================\n",
       "                 coef    std err          t      P>|t|      [0.025      0.975]\n",
       "------------------------------------------------------------------------------\n",
       "const        -25.8498      2.070    -12.489      0.000     -29.907     -21.792\n",
       "ind_18         1.9169      0.172     11.173      0.000       1.581       2.253\n",
       "==============================================================================\n",
       "Omnibus:                    23170.861   Durbin-Watson:                   0.299\n",
       "Prob(Omnibus):                  0.000   Jarque-Bera (JB):              931.107\n",
       "Skew:                           0.170   Prob(JB):                    6.50e-203\n",
       "Kurtosis:                       1.127   Cond. No.                         54.1\n",
       "==============================================================================\n",
       "\n",
       "Warnings:\n",
       "[1] Standard Errors assume that the covariance matrix of the errors is correctly specified.\n",
       "\"\"\""
      ]
     },
     "execution_count": 128,
     "metadata": {},
     "output_type": "execute_result"
    }
   ],
   "source": [
    "lm=sm.OLS(y,x)\n",
    "model=lm.fit()\n",
    "model.summary()"
   ]
  },
  {
   "cell_type": "code",
   "execution_count": 131,
   "metadata": {},
   "outputs": [
    {
     "data": {
      "text/plain": [
       "1.044878814169088e-28"
      ]
     },
     "execution_count": 131,
     "metadata": {},
     "output_type": "execute_result"
    }
   ],
   "source": [
    "model.f_pvalue"
   ]
  },
  {
   "cell_type": "code",
   "execution_count": 132,
   "metadata": {},
   "outputs": [
    {
     "data": {
      "text/plain": [
       "0   -8.387276\n",
       "1   -8.171630\n",
       "2   -7.999113\n",
       "3   -7.802635\n",
       "4   -6.887336\n",
       "dtype: float64"
      ]
     },
     "execution_count": 132,
     "metadata": {},
     "output_type": "execute_result"
    }
   ],
   "source": [
    "model.fittedvalues[0:5]"
   ]
  },
  {
   "cell_type": "code",
   "execution_count": 133,
   "metadata": {},
   "outputs": [
    {
     "data": {
      "text/html": [
       "<div>\n",
       "<style scoped>\n",
       "    .dataframe tbody tr th:only-of-type {\n",
       "        vertical-align: middle;\n",
       "    }\n",
       "\n",
       "    .dataframe tbody tr th {\n",
       "        vertical-align: top;\n",
       "    }\n",
       "\n",
       "    .dataframe thead th {\n",
       "        text-align: right;\n",
       "    }\n",
       "</style>\n",
       "<table border=\"1\" class=\"dataframe\">\n",
       "  <thead>\n",
       "    <tr style=\"text-align: right;\">\n",
       "      <th></th>\n",
       "      <th>90_target</th>\n",
       "    </tr>\n",
       "  </thead>\n",
       "  <tbody>\n",
       "    <tr>\n",
       "      <th>0</th>\n",
       "      <td>36.997753</td>\n",
       "    </tr>\n",
       "    <tr>\n",
       "      <th>1</th>\n",
       "      <td>37.016198</td>\n",
       "    </tr>\n",
       "    <tr>\n",
       "      <th>2</th>\n",
       "      <td>-37.024805</td>\n",
       "    </tr>\n",
       "    <tr>\n",
       "      <th>3</th>\n",
       "      <td>-37.040483</td>\n",
       "    </tr>\n",
       "    <tr>\n",
       "      <th>4</th>\n",
       "      <td>-37.103503</td>\n",
       "    </tr>\n",
       "  </tbody>\n",
       "</table>\n",
       "</div>"
      ],
      "text/plain": [
       "   90_target\n",
       "0  36.997753\n",
       "1  37.016198\n",
       "2 -37.024805\n",
       "3 -37.040483\n",
       "4 -37.103503"
      ]
     },
     "execution_count": 133,
     "metadata": {},
     "output_type": "execute_result"
    }
   ],
   "source": [
    "y[0:5]"
   ]
  },
  {
   "cell_type": "code",
   "execution_count": 138,
   "metadata": {},
   "outputs": [],
   "source": [
    "from sklearn.metrics import mean_squared_error,r2_score"
   ]
  },
  {
   "cell_type": "code",
   "execution_count": 139,
   "metadata": {},
   "outputs": [],
   "source": [
    "mse=mean_squared_error(y,model.fittedvalues)"
   ]
  },
  {
   "cell_type": "code",
   "execution_count": 140,
   "metadata": {},
   "outputs": [
    {
     "data": {
      "text/plain": [
       "1330.146123108287"
      ]
     },
     "execution_count": 140,
     "metadata": {},
     "output_type": "execute_result"
    }
   ],
   "source": [
    "mse"
   ]
  },
  {
   "cell_type": "code",
   "execution_count": 141,
   "metadata": {},
   "outputs": [
    {
     "data": {
      "text/plain": [
       "36.47116838145286"
      ]
     },
     "execution_count": 141,
     "metadata": {},
     "output_type": "execute_result"
    }
   ],
   "source": [
    "import numpy as np\n",
    "rmse=np.sqrt(mse)\n",
    "rmse"
   ]
  },
  {
   "cell_type": "code",
   "execution_count": 142,
   "metadata": {},
   "outputs": [],
   "source": [
    "from sklearn.model_selection import train_test_split , cross_val_score, cross_val_predict"
   ]
  },
  {
   "cell_type": "code",
   "execution_count": 152,
   "metadata": {},
   "outputs": [],
   "source": [
    "data2=pd.read_excel(\"dataset.xlsx\",usecols=[\"ind_36\",\"ind_332\",\"ind_77\",\"ind_16\",\"ind_17\",\"ind_412\",\"ind_18\",\"90_target\"])"
   ]
  },
  {
   "cell_type": "code",
   "execution_count": 157,
   "metadata": {},
   "outputs": [],
   "source": [
    "data2=data2.replace('?',np.nan)\n",
    "data2=data2.dropna(axis=0,how=\"any\")\n"
   ]
  },
  {
   "cell_type": "code",
   "execution_count": 158,
   "metadata": {},
   "outputs": [
    {
     "data": {
      "text/html": [
       "<div>\n",
       "<style scoped>\n",
       "    .dataframe tbody tr th:only-of-type {\n",
       "        vertical-align: middle;\n",
       "    }\n",
       "\n",
       "    .dataframe tbody tr th {\n",
       "        vertical-align: top;\n",
       "    }\n",
       "\n",
       "    .dataframe thead th {\n",
       "        text-align: right;\n",
       "    }\n",
       "</style>\n",
       "<table border=\"1\" class=\"dataframe\">\n",
       "  <thead>\n",
       "    <tr style=\"text-align: right;\">\n",
       "      <th></th>\n",
       "      <th>ind_16</th>\n",
       "      <th>ind_17</th>\n",
       "      <th>ind_18</th>\n",
       "      <th>ind_36</th>\n",
       "      <th>ind_77</th>\n",
       "      <th>ind_332</th>\n",
       "      <th>ind_412</th>\n",
       "      <th>90_target</th>\n",
       "    </tr>\n",
       "  </thead>\n",
       "  <tbody>\n",
       "    <tr>\n",
       "      <th>ind_16</th>\n",
       "      <td>1.000000</td>\n",
       "      <td>0.921295</td>\n",
       "      <td>0.429029</td>\n",
       "      <td>-0.018995</td>\n",
       "      <td>0.042064</td>\n",
       "      <td>0.039247</td>\n",
       "      <td>-0.025170</td>\n",
       "      <td>0.108077</td>\n",
       "    </tr>\n",
       "    <tr>\n",
       "      <th>ind_17</th>\n",
       "      <td>0.921295</td>\n",
       "      <td>1.000000</td>\n",
       "      <td>0.545873</td>\n",
       "      <td>-0.017085</td>\n",
       "      <td>0.045916</td>\n",
       "      <td>0.064045</td>\n",
       "      <td>-0.036754</td>\n",
       "      <td>0.129277</td>\n",
       "    </tr>\n",
       "    <tr>\n",
       "      <th>ind_18</th>\n",
       "      <td>0.429029</td>\n",
       "      <td>0.545873</td>\n",
       "      <td>1.000000</td>\n",
       "      <td>0.088234</td>\n",
       "      <td>0.134456</td>\n",
       "      <td>0.160939</td>\n",
       "      <td>-0.018460</td>\n",
       "      <td>0.140877</td>\n",
       "    </tr>\n",
       "    <tr>\n",
       "      <th>ind_36</th>\n",
       "      <td>-0.018995</td>\n",
       "      <td>-0.017085</td>\n",
       "      <td>0.088234</td>\n",
       "      <td>1.000000</td>\n",
       "      <td>0.801597</td>\n",
       "      <td>0.301048</td>\n",
       "      <td>0.544917</td>\n",
       "      <td>0.076160</td>\n",
       "    </tr>\n",
       "    <tr>\n",
       "      <th>ind_77</th>\n",
       "      <td>0.042064</td>\n",
       "      <td>0.045916</td>\n",
       "      <td>0.134456</td>\n",
       "      <td>0.801597</td>\n",
       "      <td>1.000000</td>\n",
       "      <td>0.309693</td>\n",
       "      <td>0.402893</td>\n",
       "      <td>0.081549</td>\n",
       "    </tr>\n",
       "    <tr>\n",
       "      <th>ind_332</th>\n",
       "      <td>0.039247</td>\n",
       "      <td>0.064045</td>\n",
       "      <td>0.160939</td>\n",
       "      <td>0.301048</td>\n",
       "      <td>0.309693</td>\n",
       "      <td>1.000000</td>\n",
       "      <td>0.077782</td>\n",
       "      <td>0.115002</td>\n",
       "    </tr>\n",
       "    <tr>\n",
       "      <th>ind_412</th>\n",
       "      <td>-0.025170</td>\n",
       "      <td>-0.036754</td>\n",
       "      <td>-0.018460</td>\n",
       "      <td>0.544917</td>\n",
       "      <td>0.402893</td>\n",
       "      <td>0.077782</td>\n",
       "      <td>1.000000</td>\n",
       "      <td>0.124265</td>\n",
       "    </tr>\n",
       "    <tr>\n",
       "      <th>90_target</th>\n",
       "      <td>0.108077</td>\n",
       "      <td>0.129277</td>\n",
       "      <td>0.140877</td>\n",
       "      <td>0.076160</td>\n",
       "      <td>0.081549</td>\n",
       "      <td>0.115002</td>\n",
       "      <td>0.124265</td>\n",
       "      <td>1.000000</td>\n",
       "    </tr>\n",
       "  </tbody>\n",
       "</table>\n",
       "</div>"
      ],
      "text/plain": [
       "             ind_16    ind_17    ind_18    ind_36    ind_77   ind_332  \\\n",
       "ind_16     1.000000  0.921295  0.429029 -0.018995  0.042064  0.039247   \n",
       "ind_17     0.921295  1.000000  0.545873 -0.017085  0.045916  0.064045   \n",
       "ind_18     0.429029  0.545873  1.000000  0.088234  0.134456  0.160939   \n",
       "ind_36    -0.018995 -0.017085  0.088234  1.000000  0.801597  0.301048   \n",
       "ind_77     0.042064  0.045916  0.134456  0.801597  1.000000  0.309693   \n",
       "ind_332    0.039247  0.064045  0.160939  0.301048  0.309693  1.000000   \n",
       "ind_412   -0.025170 -0.036754 -0.018460  0.544917  0.402893  0.077782   \n",
       "90_target  0.108077  0.129277  0.140877  0.076160  0.081549  0.115002   \n",
       "\n",
       "            ind_412  90_target  \n",
       "ind_16    -0.025170   0.108077  \n",
       "ind_17    -0.036754   0.129277  \n",
       "ind_18    -0.018460   0.140877  \n",
       "ind_36     0.544917   0.076160  \n",
       "ind_77     0.402893   0.081549  \n",
       "ind_332    0.077782   0.115002  \n",
       "ind_412    1.000000   0.124265  \n",
       "90_target  0.124265   1.000000  "
      ]
     },
     "execution_count": 158,
     "metadata": {},
     "output_type": "execute_result"
    }
   ],
   "source": [
    "data2.corr()"
   ]
  },
  {
   "cell_type": "code",
   "execution_count": 164,
   "metadata": {},
   "outputs": [],
   "source": [
    "X = data2.drop(\"90_target\" , axis = 1)\n",
    "Y = data2[\"90_target\"]"
   ]
  },
  {
   "cell_type": "code",
   "execution_count": 167,
   "metadata": {},
   "outputs": [],
   "source": [
    "X_train, X_test , Y_train , Y_test = train_test_split(X, Y , test_size = 0.20 , random_state = 42)"
   ]
  },
  {
   "cell_type": "markdown",
   "metadata": {},
   "source": []
  },
  {
   "cell_type": "code",
   "execution_count": 172,
   "metadata": {},
   "outputs": [
    {
     "data": {
      "text/html": [
       "<table class=\"simpletable\">\n",
       "<caption>OLS Regression Results</caption>\n",
       "<tr>\n",
       "  <th>Dep. Variable:</th>        <td>90_target</td>    <th>  R-squared (uncentered):</th>      <td>   0.038</td> \n",
       "</tr>\n",
       "<tr>\n",
       "  <th>Model:</th>                   <td>OLS</td>       <th>  Adj. R-squared (uncentered):</th> <td>   0.036</td> \n",
       "</tr>\n",
       "<tr>\n",
       "  <th>Method:</th>             <td>Least Squares</td>  <th>  F-statistic:       </th>          <td>   27.60</td> \n",
       "</tr>\n",
       "<tr>\n",
       "  <th>Date:</th>             <td>Thu, 23 Jul 2020</td> <th>  Prob (F-statistic):</th>          <td>1.84e-37</td> \n",
       "</tr>\n",
       "<tr>\n",
       "  <th>Time:</th>                 <td>18:18:02</td>     <th>  Log-Likelihood:    </th>          <td> -24718.</td> \n",
       "</tr>\n",
       "<tr>\n",
       "  <th>No. Observations:</th>      <td>  4933</td>      <th>  AIC:               </th>          <td>4.945e+04</td>\n",
       "</tr>\n",
       "<tr>\n",
       "  <th>Df Residuals:</th>          <td>  4926</td>      <th>  BIC:               </th>          <td>4.950e+04</td>\n",
       "</tr>\n",
       "<tr>\n",
       "  <th>Df Model:</th>              <td>     7</td>      <th>                     </th>              <td> </td>    \n",
       "</tr>\n",
       "<tr>\n",
       "  <th>Covariance Type:</th>      <td>nonrobust</td>    <th>                     </th>              <td> </td>    \n",
       "</tr>\n",
       "</table>\n",
       "<table class=\"simpletable\">\n",
       "<tr>\n",
       "     <td></td>        <th>coef</th>     <th>std err</th>      <th>t</th>      <th>P>|t|</th>  <th>[0.025</th>    <th>0.975]</th>  \n",
       "</tr>\n",
       "<tr>\n",
       "  <th>ind_16</th>  <td>   -0.6847</td> <td>    0.270</td> <td>   -2.535</td> <td> 0.011</td> <td>   -1.214</td> <td>   -0.155</td>\n",
       "</tr>\n",
       "<tr>\n",
       "  <th>ind_17</th>  <td>    1.2968</td> <td>    0.324</td> <td>    4.005</td> <td> 0.000</td> <td>    0.662</td> <td>    1.932</td>\n",
       "</tr>\n",
       "<tr>\n",
       "  <th>ind_18</th>  <td>   -0.9672</td> <td>    0.147</td> <td>   -6.595</td> <td> 0.000</td> <td>   -1.255</td> <td>   -0.680</td>\n",
       "</tr>\n",
       "<tr>\n",
       "  <th>ind_36</th>  <td>   -0.0183</td> <td>    0.008</td> <td>   -2.247</td> <td> 0.025</td> <td>   -0.034</td> <td>   -0.002</td>\n",
       "</tr>\n",
       "<tr>\n",
       "  <th>ind_77</th>  <td>    0.1868</td> <td>    0.074</td> <td>    2.512</td> <td> 0.012</td> <td>    0.041</td> <td>    0.333</td>\n",
       "</tr>\n",
       "<tr>\n",
       "  <th>ind_332</th> <td>    0.1238</td> <td>    0.018</td> <td>    7.063</td> <td> 0.000</td> <td>    0.089</td> <td>    0.158</td>\n",
       "</tr>\n",
       "<tr>\n",
       "  <th>ind_412</th> <td>  882.2779</td> <td>  110.839</td> <td>    7.960</td> <td> 0.000</td> <td>  664.984</td> <td> 1099.572</td>\n",
       "</tr>\n",
       "</table>\n",
       "<table class=\"simpletable\">\n",
       "<tr>\n",
       "  <th>Omnibus:</th>       <td>19378.186</td> <th>  Durbin-Watson:     </th> <td>   2.034</td> \n",
       "</tr>\n",
       "<tr>\n",
       "  <th>Prob(Omnibus):</th>  <td> 0.000</td>   <th>  Jarque-Bera (JB):  </th> <td> 705.827</td> \n",
       "</tr>\n",
       "<tr>\n",
       "  <th>Skew:</th>           <td> 0.173</td>   <th>  Prob(JB):          </th> <td>5.39e-154</td>\n",
       "</tr>\n",
       "<tr>\n",
       "  <th>Kurtosis:</th>       <td> 1.180</td>   <th>  Cond. No.          </th> <td>2.56e+04</td> \n",
       "</tr>\n",
       "</table><br/><br/>Warnings:<br/>[1] Standard Errors assume that the covariance matrix of the errors is correctly specified.<br/>[2] The condition number is large, 2.56e+04. This might indicate that there are<br/>strong multicollinearity or other numerical problems."
      ],
      "text/plain": [
       "<class 'statsmodels.iolib.summary.Summary'>\n",
       "\"\"\"\n",
       "                                 OLS Regression Results                                \n",
       "=======================================================================================\n",
       "Dep. Variable:              90_target   R-squared (uncentered):                   0.038\n",
       "Model:                            OLS   Adj. R-squared (uncentered):              0.036\n",
       "Method:                 Least Squares   F-statistic:                              27.60\n",
       "Date:                Thu, 23 Jul 2020   Prob (F-statistic):                    1.84e-37\n",
       "Time:                        18:18:02   Log-Likelihood:                         -24718.\n",
       "No. Observations:                4933   AIC:                                  4.945e+04\n",
       "Df Residuals:                    4926   BIC:                                  4.950e+04\n",
       "Df Model:                           7                                                  \n",
       "Covariance Type:            nonrobust                                                  \n",
       "==============================================================================\n",
       "                 coef    std err          t      P>|t|      [0.025      0.975]\n",
       "------------------------------------------------------------------------------\n",
       "ind_16        -0.6847      0.270     -2.535      0.011      -1.214      -0.155\n",
       "ind_17         1.2968      0.324      4.005      0.000       0.662       1.932\n",
       "ind_18        -0.9672      0.147     -6.595      0.000      -1.255      -0.680\n",
       "ind_36        -0.0183      0.008     -2.247      0.025      -0.034      -0.002\n",
       "ind_77         0.1868      0.074      2.512      0.012       0.041       0.333\n",
       "ind_332        0.1238      0.018      7.063      0.000       0.089       0.158\n",
       "ind_412      882.2779    110.839      7.960      0.000     664.984    1099.572\n",
       "==============================================================================\n",
       "Omnibus:                    19378.186   Durbin-Watson:                   2.034\n",
       "Prob(Omnibus):                  0.000   Jarque-Bera (JB):              705.827\n",
       "Skew:                           0.173   Prob(JB):                    5.39e-154\n",
       "Kurtosis:                       1.180   Cond. No.                     2.56e+04\n",
       "==============================================================================\n",
       "\n",
       "Warnings:\n",
       "[1] Standard Errors assume that the covariance matrix of the errors is correctly specified.\n",
       "[2] The condition number is large, 2.56e+04. This might indicate that there are\n",
       "strong multicollinearity or other numerical problems.\n",
       "\"\"\""
      ]
     },
     "execution_count": 172,
     "metadata": {},
     "output_type": "execute_result"
    }
   ],
   "source": [
    "lm = sm.OLS(Y_train,X_train)\n",
    "model = lm.fit()\n",
    "model.summary()"
   ]
  },
  {
   "cell_type": "code",
   "execution_count": null,
   "metadata": {},
   "outputs": [],
   "source": []
  },
  {
   "cell_type": "code",
   "execution_count": 169,
   "metadata": {},
   "outputs": [
    {
     "data": {
      "text/plain": [
       "<statsmodels.stats.outliers_influence.OLSInfluence at 0x13b32190>"
      ]
     },
     "execution_count": 169,
     "metadata": {},
     "output_type": "execute_result"
    }
   ],
   "source": [
    "influence = model.get_influence() #modelin içindeki kendi hatalarımız\n",
    "influence"
   ]
  },
  {
   "cell_type": "code",
   "execution_count": 170,
   "metadata": {},
   "outputs": [],
   "source": [
    "resid_student = influence.resid_studentized_external #normal dağılıma sahip hatalar"
   ]
  },
  {
   "cell_type": "code",
   "execution_count": 173,
   "metadata": {},
   "outputs": [
    {
     "name": "stdout",
     "output_type": "stream",
     "text": [
      "Leverage vs studentized residuals\n"
     ]
    },
    {
     "data": {
      "text/plain": [
       "<matplotlib.axes._subplots.AxesSubplot at 0x1311b958>"
      ]
     },
     "execution_count": 173,
     "metadata": {},
     "output_type": "execute_result"
    },
    {
     "data": {
      "image/png": "[encoded data removed]",
      "text/plain": [
       "<Figure size 432x288 with 1 Axes>"
      ]
     },
     "metadata": {
      "needs_background": "light"
     },
     "output_type": "display_data"
    }
   ],
   "source": [
    "(cooks, p) =influence.cooks_distance\n",
    "(dffits,p) = influence.dffits\n",
    "leverage = influence.hat_matrix_diag\n",
    "print(\"Leverage vs studentized residuals\")\n",
    "sns.regplot(leverage , model.resid_pearson , fit_reg = False)"
   ]
  },
  {
   "cell_type": "code",
   "execution_count": 179,
   "metadata": {},
   "outputs": [],
   "source": [
    "datares = pd.concat([pd.Series(model.resid, name = 'resid'), pd.Series(model.predict(), name = \"predict\")], axis = 1)\n",
    "\n"
   ]
  },
  {
   "cell_type": "code",
   "execution_count": 180,
   "metadata": {},
   "outputs": [
    {
     "data": {
      "text/plain": [
       "<matplotlib.axes._subplots.AxesSubplot at 0x12ff8598>"
      ]
     },
     "execution_count": 180,
     "metadata": {},
     "output_type": "execute_result"
    },
    {
     "data": {
      "image/png": "[encoded data removed]",
      "text/plain": [
       "<Figure size 432x288 with 1 Axes>"
      ]
     },
     "metadata": {
      "needs_background": "light"
     },
     "output_type": "display_data"
    }
   ],
   "source": [
    "sns.distplot(np.array(datares.resid), hist=False)"
   ]
  },
  {
   "cell_type": "code",
   "execution_count": 184,
   "metadata": {},
   "outputs": [
    {
     "name": "stderr",
     "output_type": "stream",
     "text": [
      "c:\\python38\\lib\\site-packages\\scipy\\stats\\_distn_infrastructure.py:1932: RuntimeWarning: invalid value encountered in less_equal\n",
      "  cond2 = cond0 & (x <= _a)\n"
     ]
    },
    {
     "data": {
      "image/png": "[encoded data removed]",
      "text/plain": [
       "<Figure size 432x288 with 1 Axes>"
      ]
     },
     "metadata": {
      "needs_background": "light"
     },
     "output_type": "display_data"
    }
   ],
   "source": [
    "import pylab\n",
    "import scipy.stats as stats\n",
    "stats.probplot(datares.resid, dist=\"norm\", plot=pylab)\n",
    "pylab.show()"
   ]
  },
  {
   "cell_type": "code",
   "execution_count": 185,
   "metadata": {},
   "outputs": [
    {
     "name": "stdout",
     "output_type": "stream",
     "text": [
      "Hatalar Normal (Gaussian) Dağılımdan gelmektedir (Fail to Reject H0)\n"
     ]
    },
    {
     "name": "stderr",
     "output_type": "stream",
     "text": [
      "c:\\python38\\lib\\site-packages\\scipy\\stats\\morestats.py:1681: UserWarning: p-value may not be accurate for N > 5000.\n",
      "  warnings.warn(\"p-value may not be accurate for N > 5000.\")\n"
     ]
    }
   ],
   "source": [
    "from scipy.stats import shapiro\n",
    "\n",
    "stat, p =shapiro(datares.resid)\n",
    "alpha = 0.05\n",
    "if p > alpha:\n",
    "    print('Hatalar Normal (Gaussian) Dağılımdan gelmektedir (Fail to Reject H0)')\n",
    "else:\n",
    "    print('Hatalar Normal (Gaussian) Dağılımdan gelmemektedir (reject H0)')\n",
    "    "
   ]
  },
  {
   "cell_type": "code",
   "execution_count": null,
   "metadata": {},
   "outputs": [],
   "source": []
  }
 ],
 "metadata": {
  "kernelspec": {
   "display_name": "Python 3",
   "language": "python",
   "name": "python3"
  },
  "language_info": {
   "codemirror_mode": {
    "name": "ipython",
    "version": 3
   },
   "file_extension": ".py",
   "mimetype": "text/x-python",
   "name": "python",
   "nbconvert_exporter": "python",
   "pygments_lexer": "ipython3",
   "version": "3.8.1"
  }
 },
 "nbformat": 4,
 "nbformat_minor": 4
}
